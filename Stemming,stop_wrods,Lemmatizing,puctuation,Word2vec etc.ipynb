{
 "cells": [
  {
   "cell_type": "markdown",
   "metadata": {},
   "source": [
    "## The parameters:\n",
    "min_count = int - Ignores all words with total absolute frequency lower than this - (2, 100)\n",
    "\n",
    "window = int - The maximum distance between the current and predicted word within a sentence. E.g. window words on the left and window words on the left of our target - (2, 10)\n",
    "\n",
    "size = int - Dimensionality of the feature vectors. - (50, 300)\n",
    "\n",
    "sample = float - The threshold for configuring which higher-frequency words are randomly downsampled. Highly influencial. - (0, 1e-5)\n",
    "\n",
    "alpha = float - The initial learning rate - (0.01, 0.05)\n",
    "\n",
    "min_alpha = float - Learning rate will linearly drop to min_alpha as training progresses. To set it: alpha - (min_alpha * epochs) ~ 0.00\n",
    "\n",
    "negative = int - If > 0, negative sampling will be used, the int for negative specifies how many \"noise words\" should be drown. If set to 0, no negative sampling is used. - (5, 20)\n",
    "\n",
    "workers = int - Use these many worker threads to train the model (=faster training with multicore machines)\n",
    "\n",
    "### Example\n",
    "w2v_model = Word2Vec(min_count=20,\n",
    "                     window=2,\n",
    "                     size=300,\n",
    "                     sample=6e-5, \n",
    "                     alpha=0.03, \n",
    "                     min_alpha=0.0007, \n",
    "                     negative=20,\n",
    "                     workers=cores-1)"
   ]
  },
  {
   "cell_type": "code",
   "execution_count": 1,
   "metadata": {},
   "outputs": [
    {
     "data": {
      "text/plain": [
       "4"
      ]
     },
     "execution_count": 1,
     "metadata": {},
     "output_type": "execute_result"
    }
   ],
   "source": [
    "import multiprocessing\n",
    "cores = multiprocessing.cpu_count() # Count the number of cores in a computer\n",
    "cores"
   ]
  },
  {
   "cell_type": "code",
   "execution_count": 2,
   "metadata": {},
   "outputs": [],
   "source": [
    "from time import time\n",
    "import logging  # Setting up the loggings to monitor gensim\n",
    "logging.basicConfig(format=\"%(levelname)s - %(asctime)s: %(message)s\", datefmt= '%H:%M:%S', level=logging.INFO)"
   ]
  },
  {
   "cell_type": "code",
   "execution_count": 3,
   "metadata": {},
   "outputs": [
    {
     "name": "stdout",
     "output_type": "stream",
     "text": [
      "Time to import everything: 14.298096656799316 seconds\n"
     ]
    }
   ],
   "source": [
    "t = time()\n",
    "import pandas as pd\n",
    "import numpy as np\n",
    "import nltk\n",
    "print('Time to import everything: {} seconds'.format((time() - t), 2))"
   ]
  },
  {
   "cell_type": "code",
   "execution_count": 4,
   "metadata": {},
   "outputs": [],
   "source": [
    "pd.set_option('display.width',1000)\n",
    "pd.set_option('max_colwidth', 1000) "
   ]
  },
  {
   "cell_type": "code",
   "execution_count": 5,
   "metadata": {},
   "outputs": [
    {
     "data": {
      "text/html": [
       "<div>\n",
       "<style scoped>\n",
       "    .dataframe tbody tr th:only-of-type {\n",
       "        vertical-align: middle;\n",
       "    }\n",
       "\n",
       "    .dataframe tbody tr th {\n",
       "        vertical-align: top;\n",
       "    }\n",
       "\n",
       "    .dataframe thead th {\n",
       "        text-align: right;\n",
       "    }\n",
       "</style>\n",
       "<table border=\"1\" class=\"dataframe\">\n",
       "  <thead>\n",
       "    <tr style=\"text-align: right;\">\n",
       "      <th></th>\n",
       "      <th>Text</th>\n",
       "      <th>Class</th>\n",
       "    </tr>\n",
       "  </thead>\n",
       "  <tbody>\n",
       "    <tr>\n",
       "      <th>0</th>\n",
       "      <td>Our deeds are the reasons for this #Earthquake caused May ALLAH forgive us all</td>\n",
       "      <td>1</td>\n",
       "    </tr>\n",
       "    <tr>\n",
       "      <th>1</th>\n",
       "      <td>Forest fire near La Ronge Sask. canada100flemming putted sold</td>\n",
       "      <td>0</td>\n",
       "    </tr>\n",
       "    <tr>\n",
       "      <th>2</th>\n",
       "      <td>Now, this is a dummy DataSet just for playing with NLP!!</td>\n",
       "      <td>0</td>\n",
       "    </tr>\n",
       "    <tr>\n",
       "      <th>3</th>\n",
       "      <td>We are playing or played$ , I'm in1a 5 meeting</td>\n",
       "      <td>1</td>\n",
       "    </tr>\n",
       "  </tbody>\n",
       "</table>\n",
       "</div>"
      ],
      "text/plain": [
       "                                                                             Text  Class\n",
       "0  Our deeds are the reasons for this #Earthquake caused May ALLAH forgive us all      1\n",
       "1                   Forest fire near La Ronge Sask. canada100flemming putted sold      0\n",
       "2                        Now, this is a dummy DataSet just for playing with NLP!!      0\n",
       "3                                  We are playing or played$ , I'm in1a 5 meeting      1"
      ]
     },
     "execution_count": 5,
     "metadata": {},
     "output_type": "execute_result"
    }
   ],
   "source": [
    "dic = {'Text': [\"Our deeds are the reasons for this #Earthquake caused May ALLAH forgive us all\",\n",
    "               \"Forest fire near La Ronge Sask. canada100flemming putted sold\",\n",
    "               \"Now, this is a dummy DataSet just for playing with NLP!!\",\n",
    "               \"We are playing or played$ , I'm in1a 5 meeting\"],\n",
    "        'Class': [1,0,0,1]}\n",
    "df = pd.DataFrame(dic)\n",
    "df"
   ]
  },
  {
   "cell_type": "code",
   "execution_count": 6,
   "metadata": {},
   "outputs": [
    {
     "data": {
      "text/plain": [
       "'Forest fire near La Ronge Sask. canada100flemming putted sold'"
      ]
     },
     "execution_count": 6,
     "metadata": {},
     "output_type": "execute_result"
    }
   ],
   "source": [
    "df['Text'][1]"
   ]
  },
  {
   "cell_type": "code",
   "execution_count": 7,
   "metadata": {},
   "outputs": [
    {
     "data": {
      "application/javascript": [
       "\n",
       "        if (window._pyforest_update_imports_cell) { window._pyforest_update_imports_cell('import re'); }\n",
       "    "
      ],
      "text/plain": [
       "<IPython.core.display.Javascript object>"
      ]
     },
     "metadata": {},
     "output_type": "display_data"
    },
    {
     "data": {
      "application/javascript": [
       "\n",
       "        if (window._pyforest_update_imports_cell) { window._pyforest_update_imports_cell('import re'); }\n",
       "    "
      ],
      "text/plain": [
       "<IPython.core.display.Javascript object>"
      ]
     },
     "metadata": {},
     "output_type": "display_data"
    },
    {
     "data": {
      "application/javascript": [
       "\n",
       "        if (window._pyforest_update_imports_cell) { window._pyforest_update_imports_cell('import re'); }\n",
       "    "
      ],
      "text/plain": [
       "<IPython.core.display.Javascript object>"
      ]
     },
     "metadata": {},
     "output_type": "display_data"
    },
    {
     "data": {
      "application/javascript": [
       "\n",
       "        if (window._pyforest_update_imports_cell) { window._pyforest_update_imports_cell('import re'); }\n",
       "    "
      ],
      "text/plain": [
       "<IPython.core.display.Javascript object>"
      ]
     },
     "metadata": {},
     "output_type": "display_data"
    },
    {
     "data": {
      "text/plain": [
       "0           #      \n",
       "1              .   \n",
       "2     ,          !!\n",
       "3          $ , '   \n",
       "Name: Text, dtype: object"
      ]
     },
     "execution_count": 7,
     "metadata": {},
     "output_type": "execute_result"
    }
   ],
   "source": [
    "df['Text'].apply(lambda elem : re.sub(r'([a-zA-Z0-9])' , '', elem)) #Match alpha-numeric"
   ]
  },
  {
   "cell_type": "code",
   "execution_count": 8,
   "metadata": {},
   "outputs": [
    {
     "data": {
      "application/javascript": [
       "\n",
       "        if (window._pyforest_update_imports_cell) { window._pyforest_update_imports_cell('import re'); }\n",
       "    "
      ],
      "text/plain": [
       "<IPython.core.display.Javascript object>"
      ]
     },
     "metadata": {},
     "output_type": "display_data"
    },
    {
     "data": {
      "application/javascript": [
       "\n",
       "        if (window._pyforest_update_imports_cell) { window._pyforest_update_imports_cell('import re'); }\n",
       "    "
      ],
      "text/plain": [
       "<IPython.core.display.Javascript object>"
      ]
     },
     "metadata": {},
     "output_type": "display_data"
    },
    {
     "data": {
      "application/javascript": [
       "\n",
       "        if (window._pyforest_update_imports_cell) { window._pyforest_update_imports_cell('import re'); }\n",
       "    "
      ],
      "text/plain": [
       "<IPython.core.display.Javascript object>"
      ]
     },
     "metadata": {},
     "output_type": "display_data"
    },
    {
     "data": {
      "application/javascript": [
       "\n",
       "        if (window._pyforest_update_imports_cell) { window._pyforest_update_imports_cell('import re'); }\n",
       "    "
      ],
      "text/plain": [
       "<IPython.core.display.Javascript object>"
      ]
     },
     "metadata": {},
     "output_type": "display_data"
    },
    {
     "data": {
      "text/plain": [
       "0           #      \n",
       "1              .   \n",
       "2     ,          !!\n",
       "3          $ , '   \n",
       "Name: Text, dtype: object"
      ]
     },
     "execution_count": 8,
     "metadata": {},
     "output_type": "execute_result"
    }
   ],
   "source": [
    "df['Text'].apply(lambda elem : re.sub(r'(\\w)' , '', elem)) #Match alpha-numeric"
   ]
  },
  {
   "cell_type": "code",
   "execution_count": null,
   "metadata": {},
   "outputs": [],
   "source": [
    "\n"
   ]
  },
  {
   "cell_type": "code",
   "execution_count": null,
   "metadata": {},
   "outputs": [],
   "source": []
  },
  {
   "cell_type": "code",
   "execution_count": 9,
   "metadata": {},
   "outputs": [],
   "source": [
    "from nltk.corpus import stopwords\n",
    "stopwords = set(stopwords.words('english'))\n",
    "stopwords.remove('no')\n",
    "stopwords.remove('not')"
   ]
  },
  {
   "cell_type": "code",
   "execution_count": 10,
   "metadata": {},
   "outputs": [
    {
     "data": {
      "text/html": [
       "<div>\n",
       "<style scoped>\n",
       "    .dataframe tbody tr th:only-of-type {\n",
       "        vertical-align: middle;\n",
       "    }\n",
       "\n",
       "    .dataframe tbody tr th {\n",
       "        vertical-align: top;\n",
       "    }\n",
       "\n",
       "    .dataframe thead th {\n",
       "        text-align: right;\n",
       "    }\n",
       "</style>\n",
       "<table border=\"1\" class=\"dataframe\">\n",
       "  <thead>\n",
       "    <tr style=\"text-align: right;\">\n",
       "      <th></th>\n",
       "      <th>Text</th>\n",
       "      <th>Class</th>\n",
       "      <th>Text_clean</th>\n",
       "    </tr>\n",
       "  </thead>\n",
       "  <tbody>\n",
       "    <tr>\n",
       "      <th>0</th>\n",
       "      <td>Our deeds are the reasons for this #Earthquake caused May ALLAH forgive us all</td>\n",
       "      <td>1</td>\n",
       "      <td>deeds reasons earthquake caused may allah forgive us</td>\n",
       "    </tr>\n",
       "    <tr>\n",
       "      <th>1</th>\n",
       "      <td>Forest fire near La Ronge Sask. canada100flemming putted sold</td>\n",
       "      <td>0</td>\n",
       "      <td>forest fire near la ronge sask canada flemming putted sold</td>\n",
       "    </tr>\n",
       "    <tr>\n",
       "      <th>2</th>\n",
       "      <td>Now, this is a dummy DataSet just for playing with NLP!!</td>\n",
       "      <td>0</td>\n",
       "      <td>dummy dataset playing nlp</td>\n",
       "    </tr>\n",
       "    <tr>\n",
       "      <th>3</th>\n",
       "      <td>We are playing or played$ , I'm in1a 5 meeting</td>\n",
       "      <td>1</td>\n",
       "      <td>playing played im meeting</td>\n",
       "    </tr>\n",
       "  </tbody>\n",
       "</table>\n",
       "</div>"
      ],
      "text/plain": [
       "                                                                             Text  Class                                                  Text_clean\n",
       "0  Our deeds are the reasons for this #Earthquake caused May ALLAH forgive us all      1        deeds reasons earthquake caused may allah forgive us\n",
       "1                   Forest fire near La Ronge Sask. canada100flemming putted sold      0  forest fire near la ronge sask canada flemming putted sold\n",
       "2                        Now, this is a dummy DataSet just for playing with NLP!!      0                                   dummy dataset playing nlp\n",
       "3                                  We are playing or played$ , I'm in1a 5 meeting      1                                   playing played im meeting"
      ]
     },
     "execution_count": 10,
     "metadata": {},
     "output_type": "execute_result"
    }
   ],
   "source": [
    "import re\n",
    "def  clean_text(df, text_field, new_text_field_name):\n",
    "    # cleaning,lower_case\n",
    "    df[new_text_field_name] = df[text_field].str.lower()\n",
    "    df[new_text_field_name] = df[new_text_field_name].apply(lambda elem: re.sub(r\"(@[A-Za-z0-9]+)|([^0-9A-Za-z \\t])|(\\w+:\\/\\/\\S+)|^rt|http.+?\", \"\", elem))  \n",
    "    # remove numbers\n",
    "    df[new_text_field_name] = df[new_text_field_name].apply(lambda elem: re.sub(r\"\\d+\", \" \", elem))\n",
    "    #Stop words\n",
    "    df[new_text_field_name] = df[new_text_field_name].apply(lambda x : ' '.join([word for word in x.split() if word not in stopwords]))\n",
    "\n",
    "    return df\n",
    "data_clean = clean_text(df, 'Text', 'Text_clean')\n",
    "data_clean.head()\n"
   ]
  },
  {
   "cell_type": "code",
   "execution_count": 11,
   "metadata": {
    "scrolled": true
   },
   "outputs": [
    {
     "name": "stdout",
     "output_type": "stream",
     "text": [
      "['a', 'about', 'above', 'after', 'again', 'against', 'ain', 'all', 'am', 'an', 'and', 'any', 'are', 'aren', \"aren't\", 'as', 'at', 'be', 'because', 'been', 'before', 'being', 'below', 'between', 'both', 'but', 'by', 'can', 'couldn', \"couldn't\", 'd', 'did', 'didn', \"didn't\", 'do', 'does', 'doesn', \"doesn't\", 'doing', 'don', \"don't\", 'down', 'during', 'each', 'few', 'for', 'from', 'further', 'had', 'hadn', \"hadn't\", 'has', 'hasn', \"hasn't\", 'have', 'haven', \"haven't\", 'having', 'he', 'her', 'here', 'hers', 'herself', 'him', 'himself', 'his', 'how', 'i', 'if', 'in', 'into', 'is', 'isn', \"isn't\", 'it', \"it's\", 'its', 'itself', 'just', 'll', 'm', 'ma', 'me', 'mightn', \"mightn't\", 'more', 'most', 'mustn', \"mustn't\", 'my', 'myself', 'needn', \"needn't\", 'nor', 'now', 'o', 'of', 'off', 'on', 'once', 'only', 'or', 'other', 'our', 'ours', 'ourselves', 'out', 'over', 'own', 're', 's', 'same', 'shan', \"shan't\", 'she', \"she's\", 'should', \"should've\", 'shouldn', \"shouldn't\", 'so', 'some', 'such', 't', 'than', 'that', \"that'll\", 'the', 'their', 'theirs', 'them', 'themselves', 'then', 'there', 'these', 'they', 'this', 'those', 'through', 'to', 'too', 'under', 'until', 'up', 've', 'very', 'was', 'wasn', \"wasn't\", 'we', 'were', 'weren', \"weren't\", 'what', 'when', 'where', 'which', 'while', 'who', 'whom', 'why', 'will', 'with', 'won', \"won't\", 'wouldn', \"wouldn't\", 'y', 'you', \"you'd\", \"you'll\", \"you're\", \"you've\", 'your', 'yours', 'yourself', 'yourselves']\n"
     ]
    }
   ],
   "source": [
    "print(sorted(stopwords))"
   ]
  },
  {
   "cell_type": "code",
   "execution_count": 12,
   "metadata": {},
   "outputs": [
    {
     "data": {
      "text/plain": [
       "0    Ourdeedsarethereasonsforthis#EarthquakecausedMayALLAHforgiveusall\n",
       "1                ForestfirenearLaRongeSask.canada100flemmingputtedsold\n",
       "2                       Now,thisisadummyDataSetjustforplayingwithNLP!!\n",
       "3                                Weareplayingorplayed$,I'min1a5meeting\n",
       "Name: Text, dtype: object"
      ]
     },
     "execution_count": 12,
     "metadata": {},
     "output_type": "execute_result"
    }
   ],
   "source": [
    "df['Text'].apply(lambda x : ''.join(x.split(' ')))"
   ]
  },
  {
   "cell_type": "code",
   "execution_count": 13,
   "metadata": {},
   "outputs": [
    {
     "data": {
      "text/html": [
       "<div>\n",
       "<style scoped>\n",
       "    .dataframe tbody tr th:only-of-type {\n",
       "        vertical-align: middle;\n",
       "    }\n",
       "\n",
       "    .dataframe tbody tr th {\n",
       "        vertical-align: top;\n",
       "    }\n",
       "\n",
       "    .dataframe thead th {\n",
       "        text-align: right;\n",
       "    }\n",
       "</style>\n",
       "<table border=\"1\" class=\"dataframe\">\n",
       "  <thead>\n",
       "    <tr style=\"text-align: right;\">\n",
       "      <th></th>\n",
       "      <th>Text</th>\n",
       "      <th>Class</th>\n",
       "      <th>Text_clean</th>\n",
       "      <th>Text_tokens</th>\n",
       "    </tr>\n",
       "  </thead>\n",
       "  <tbody>\n",
       "    <tr>\n",
       "      <th>0</th>\n",
       "      <td>Our deeds are the reasons for this #Earthquake caused May ALLAH forgive us all</td>\n",
       "      <td>1</td>\n",
       "      <td>deeds reasons earthquake caused may allah forgive us</td>\n",
       "      <td>[deeds, reasons, earthquake, caused, may, allah, forgive, us]</td>\n",
       "    </tr>\n",
       "    <tr>\n",
       "      <th>1</th>\n",
       "      <td>Forest fire near La Ronge Sask. canada100flemming putted sold</td>\n",
       "      <td>0</td>\n",
       "      <td>forest fire near la ronge sask canada flemming putted sold</td>\n",
       "      <td>[forest, fire, near, la, ronge, sask, canada, flemming, putted, sold]</td>\n",
       "    </tr>\n",
       "    <tr>\n",
       "      <th>2</th>\n",
       "      <td>Now, this is a dummy DataSet just for playing with NLP!!</td>\n",
       "      <td>0</td>\n",
       "      <td>dummy dataset playing nlp</td>\n",
       "      <td>[dummy, dataset, playing, nlp]</td>\n",
       "    </tr>\n",
       "    <tr>\n",
       "      <th>3</th>\n",
       "      <td>We are playing or played$ , I'm in1a 5 meeting</td>\n",
       "      <td>1</td>\n",
       "      <td>playing played im meeting</td>\n",
       "      <td>[playing, played, im, meeting]</td>\n",
       "    </tr>\n",
       "  </tbody>\n",
       "</table>\n",
       "</div>"
      ],
      "text/plain": [
       "                                                                             Text  Class                                                  Text_clean                                                            Text_tokens\n",
       "0  Our deeds are the reasons for this #Earthquake caused May ALLAH forgive us all      1        deeds reasons earthquake caused may allah forgive us          [deeds, reasons, earthquake, caused, may, allah, forgive, us]\n",
       "1                   Forest fire near La Ronge Sask. canada100flemming putted sold      0  forest fire near la ronge sask canada flemming putted sold  [forest, fire, near, la, ronge, sask, canada, flemming, putted, sold]\n",
       "2                        Now, this is a dummy DataSet just for playing with NLP!!      0                                   dummy dataset playing nlp                                         [dummy, dataset, playing, nlp]\n",
       "3                                  We are playing or played$ , I'm in1a 5 meeting      1                                   playing played im meeting                                         [playing, played, im, meeting]"
      ]
     },
     "execution_count": 13,
     "metadata": {},
     "output_type": "execute_result"
    }
   ],
   "source": [
    "df['Text_tokens'] = df['Text_clean'].apply(lambda x : nltk.word_tokenize(x))\n",
    "df"
   ]
  },
  {
   "cell_type": "code",
   "execution_count": 14,
   "metadata": {},
   "outputs": [
    {
     "data": {
      "text/html": [
       "<div>\n",
       "<style scoped>\n",
       "    .dataframe tbody tr th:only-of-type {\n",
       "        vertical-align: middle;\n",
       "    }\n",
       "\n",
       "    .dataframe tbody tr th {\n",
       "        vertical-align: top;\n",
       "    }\n",
       "\n",
       "    .dataframe thead th {\n",
       "        text-align: right;\n",
       "    }\n",
       "</style>\n",
       "<table border=\"1\" class=\"dataframe\">\n",
       "  <thead>\n",
       "    <tr style=\"text-align: right;\">\n",
       "      <th></th>\n",
       "      <th>Text</th>\n",
       "      <th>Class</th>\n",
       "      <th>Text_clean</th>\n",
       "      <th>Text_tokens</th>\n",
       "      <th>Text_tokens_stem</th>\n",
       "    </tr>\n",
       "  </thead>\n",
       "  <tbody>\n",
       "    <tr>\n",
       "      <th>0</th>\n",
       "      <td>Our deeds are the reasons for this #Earthquake caused May ALLAH forgive us all</td>\n",
       "      <td>1</td>\n",
       "      <td>deeds reasons earthquake caused may allah forgive us</td>\n",
       "      <td>[deeds, reasons, earthquake, caused, may, allah, forgive, us]</td>\n",
       "      <td>[deed, reason, earthquak, caus, may, allah, forgiv, us]</td>\n",
       "    </tr>\n",
       "    <tr>\n",
       "      <th>1</th>\n",
       "      <td>Forest fire near La Ronge Sask. canada100flemming putted sold</td>\n",
       "      <td>0</td>\n",
       "      <td>forest fire near la ronge sask canada flemming putted sold</td>\n",
       "      <td>[forest, fire, near, la, ronge, sask, canada, flemming, putted, sold]</td>\n",
       "      <td>[forest, fire, near, la, rong, sask, canada, flem, put, sold]</td>\n",
       "    </tr>\n",
       "    <tr>\n",
       "      <th>2</th>\n",
       "      <td>Now, this is a dummy DataSet just for playing with NLP!!</td>\n",
       "      <td>0</td>\n",
       "      <td>dummy dataset playing nlp</td>\n",
       "      <td>[dummy, dataset, playing, nlp]</td>\n",
       "      <td>[dummi, dataset, play, nlp]</td>\n",
       "    </tr>\n",
       "    <tr>\n",
       "      <th>3</th>\n",
       "      <td>We are playing or played$ , I'm in1a 5 meeting</td>\n",
       "      <td>1</td>\n",
       "      <td>playing played im meeting</td>\n",
       "      <td>[playing, played, im, meeting]</td>\n",
       "      <td>[play, play, im, meet]</td>\n",
       "    </tr>\n",
       "  </tbody>\n",
       "</table>\n",
       "</div>"
      ],
      "text/plain": [
       "                                                                             Text  Class                                                  Text_clean                                                            Text_tokens                                               Text_tokens_stem\n",
       "0  Our deeds are the reasons for this #Earthquake caused May ALLAH forgive us all      1        deeds reasons earthquake caused may allah forgive us          [deeds, reasons, earthquake, caused, may, allah, forgive, us]        [deed, reason, earthquak, caus, may, allah, forgiv, us]\n",
       "1                   Forest fire near La Ronge Sask. canada100flemming putted sold      0  forest fire near la ronge sask canada flemming putted sold  [forest, fire, near, la, ronge, sask, canada, flemming, putted, sold]  [forest, fire, near, la, rong, sask, canada, flem, put, sold]\n",
       "2                        Now, this is a dummy DataSet just for playing with NLP!!      0                                   dummy dataset playing nlp                                         [dummy, dataset, playing, nlp]                                    [dummi, dataset, play, nlp]\n",
       "3                                  We are playing or played$ , I'm in1a 5 meeting      1                                   playing played im meeting                                         [playing, played, im, meeting]                                         [play, play, im, meet]"
      ]
     },
     "execution_count": 14,
     "metadata": {},
     "output_type": "execute_result"
    }
   ],
   "source": [
    "from nltk.stem import PorterStemmer\n",
    "def stemming(text):\n",
    "    return ( [PorterStemmer().stem(i) for i in text] )\n",
    "\n",
    "df['Text_tokens_stem'] = df['Text_tokens'].apply(stemming)\n",
    "df"
   ]
  },
  {
   "cell_type": "code",
   "execution_count": 15,
   "metadata": {},
   "outputs": [
    {
     "data": {
      "text/html": [
       "<div>\n",
       "<style scoped>\n",
       "    .dataframe tbody tr th:only-of-type {\n",
       "        vertical-align: middle;\n",
       "    }\n",
       "\n",
       "    .dataframe tbody tr th {\n",
       "        vertical-align: top;\n",
       "    }\n",
       "\n",
       "    .dataframe thead th {\n",
       "        text-align: right;\n",
       "    }\n",
       "</style>\n",
       "<table border=\"1\" class=\"dataframe\">\n",
       "  <thead>\n",
       "    <tr style=\"text-align: right;\">\n",
       "      <th></th>\n",
       "      <th>Text</th>\n",
       "      <th>Class</th>\n",
       "      <th>Text_clean</th>\n",
       "      <th>Text_tokens</th>\n",
       "      <th>Text_tokens_stem</th>\n",
       "      <th>Text_tokens_lemma</th>\n",
       "    </tr>\n",
       "  </thead>\n",
       "  <tbody>\n",
       "    <tr>\n",
       "      <th>0</th>\n",
       "      <td>Our deeds are the reasons for this #Earthquake caused May ALLAH forgive us all</td>\n",
       "      <td>1</td>\n",
       "      <td>deeds reasons earthquake caused may allah forgive us</td>\n",
       "      <td>[deeds, reasons, earthquake, caused, may, allah, forgive, us]</td>\n",
       "      <td>[deed, reason, earthquak, caus, may, allah, forgiv, us]</td>\n",
       "      <td>[deeds, reason, earthquake, cause, may, allah, forgive, us]</td>\n",
       "    </tr>\n",
       "    <tr>\n",
       "      <th>1</th>\n",
       "      <td>Forest fire near La Ronge Sask. canada100flemming putted sold</td>\n",
       "      <td>0</td>\n",
       "      <td>forest fire near la ronge sask canada flemming putted sold</td>\n",
       "      <td>[forest, fire, near, la, ronge, sask, canada, flemming, putted, sold]</td>\n",
       "      <td>[forest, fire, near, la, rong, sask, canada, flem, put, sold]</td>\n",
       "      <td>[forest, fire, near, la, ronge, sask, canada, flemming, putt, sell]</td>\n",
       "    </tr>\n",
       "    <tr>\n",
       "      <th>2</th>\n",
       "      <td>Now, this is a dummy DataSet just for playing with NLP!!</td>\n",
       "      <td>0</td>\n",
       "      <td>dummy dataset playing nlp</td>\n",
       "      <td>[dummy, dataset, playing, nlp]</td>\n",
       "      <td>[dummi, dataset, play, nlp]</td>\n",
       "      <td>[dummy, dataset, play, nlp]</td>\n",
       "    </tr>\n",
       "    <tr>\n",
       "      <th>3</th>\n",
       "      <td>We are playing or played$ , I'm in1a 5 meeting</td>\n",
       "      <td>1</td>\n",
       "      <td>playing played im meeting</td>\n",
       "      <td>[playing, played, im, meeting]</td>\n",
       "      <td>[play, play, im, meet]</td>\n",
       "      <td>[play, play, im, meet]</td>\n",
       "    </tr>\n",
       "  </tbody>\n",
       "</table>\n",
       "</div>"
      ],
      "text/plain": [
       "                                                                             Text  Class                                                  Text_clean                                                            Text_tokens                                               Text_tokens_stem                                                    Text_tokens_lemma\n",
       "0  Our deeds are the reasons for this #Earthquake caused May ALLAH forgive us all      1        deeds reasons earthquake caused may allah forgive us          [deeds, reasons, earthquake, caused, may, allah, forgive, us]        [deed, reason, earthquak, caus, may, allah, forgiv, us]          [deeds, reason, earthquake, cause, may, allah, forgive, us]\n",
       "1                   Forest fire near La Ronge Sask. canada100flemming putted sold      0  forest fire near la ronge sask canada flemming putted sold  [forest, fire, near, la, ronge, sask, canada, flemming, putted, sold]  [forest, fire, near, la, rong, sask, canada, flem, put, sold]  [forest, fire, near, la, ronge, sask, canada, flemming, putt, sell]\n",
       "2                        Now, this is a dummy DataSet just for playing with NLP!!      0                                   dummy dataset playing nlp                                         [dummy, dataset, playing, nlp]                                    [dummi, dataset, play, nlp]                                          [dummy, dataset, play, nlp]\n",
       "3                                  We are playing or played$ , I'm in1a 5 meeting      1                                   playing played im meeting                                         [playing, played, im, meeting]                                         [play, play, im, meet]                                               [play, play, im, meet]"
      ]
     },
     "execution_count": 15,
     "metadata": {},
     "output_type": "execute_result"
    }
   ],
   "source": [
    "from nltk.corpus import wordnet\n",
    "from nltk.stem import WordNetLemmatizer as wnl\n",
    "def lemmatizing(text):\n",
    "    #return( ' '.join([wnl().lemmatize(i) for i in text])\n",
    "    return( ([wnl().lemmatize(i , pos=\"v\") for i in text.split()]) )\n",
    "df['Text_tokens_lemma'] = df['Text_clean'].apply(lemmatizing)\n",
    "df"
   ]
  },
  {
   "cell_type": "code",
   "execution_count": 16,
   "metadata": {},
   "outputs": [
    {
     "name": "stdout",
     "output_type": "stream",
     "text": [
      "dog\n",
      "church\n",
      "aardwolf\n",
      "abacus\n",
      "came\n",
      "working\n",
      "running\n",
      "kid\n"
     ]
    }
   ],
   "source": [
    "from nltk.stem import WordNetLemmatizer\n",
    "wnl = WordNetLemmatizer()\n",
    "print(wnl.lemmatize('dogs'))\n",
    "print(wnl.lemmatize('churches'))\n",
    "print(wnl.lemmatize('aardwolves'))\n",
    "print(wnl.lemmatize('abaci'))\n",
    "print(wnl.lemmatize('came'))\n",
    "print(wnl.lemmatize('working'))\n",
    "print(wnl.lemmatize('running'))\n",
    "print(wnl.lemmatize('kids'))\n"
   ]
  },
  {
   "cell_type": "code",
   "execution_count": 17,
   "metadata": {},
   "outputs": [
    {
     "name": "stdout",
     "output_type": "stream",
     "text": [
      "Ali        Hassan        Awan      \n"
     ]
    }
   ],
   "source": [
    "\"\"\"\n",
    "file=open(\"Stemming and Lemmatization\\data-science-wiki.txt\")\n",
    "my_lines_list=file.readlines()\n",
    "my_lines_list\n",
    "To readlines() is used to read and copy the contents in file and .read() method is aslo used to simply view the file.\n",
    "\"\"\"\n",
    "l1 = ['Ali' , 'Hassan' , 'Awan']\n",
    "print('{0:10} {1:13} {2:10}'.format(l1[0],l1[1],l1[2]))"
   ]
  },
  {
   "cell_type": "code",
   "execution_count": 18,
   "metadata": {},
   "outputs": [
    {
     "data": {
      "text/plain": [
       "['austen-emma.txt',\n",
       " 'austen-persuasion.txt',\n",
       " 'austen-sense.txt',\n",
       " 'bible-kjv.txt',\n",
       " 'blake-poems.txt',\n",
       " 'bryant-stories.txt',\n",
       " 'burgess-busterbrown.txt',\n",
       " 'carroll-alice.txt',\n",
       " 'chesterton-ball.txt',\n",
       " 'chesterton-brown.txt',\n",
       " 'chesterton-thursday.txt',\n",
       " 'edgeworth-parents.txt',\n",
       " 'melville-moby_dick.txt',\n",
       " 'milton-paradise.txt',\n",
       " 'shakespeare-caesar.txt',\n",
       " 'shakespeare-hamlet.txt',\n",
       " 'shakespeare-macbeth.txt',\n",
       " 'whitman-leaves.txt']"
      ]
     },
     "execution_count": 18,
     "metadata": {},
     "output_type": "execute_result"
    }
   ],
   "source": [
    "nltk.corpus.gutenberg.fileids()\n"
   ]
  },
  {
   "cell_type": "code",
   "execution_count": 19,
   "metadata": {},
   "outputs": [
    {
     "data": {
      "text/html": [
       "<div>\n",
       "<style scoped>\n",
       "    .dataframe tbody tr th:only-of-type {\n",
       "        vertical-align: middle;\n",
       "    }\n",
       "\n",
       "    .dataframe tbody tr th {\n",
       "        vertical-align: top;\n",
       "    }\n",
       "\n",
       "    .dataframe thead th {\n",
       "        text-align: right;\n",
       "    }\n",
       "</style>\n",
       "<table border=\"1\" class=\"dataframe\">\n",
       "  <thead>\n",
       "    <tr style=\"text-align: right;\">\n",
       "      <th></th>\n",
       "      <th>Text</th>\n",
       "      <th>Class</th>\n",
       "      <th>Text_clean</th>\n",
       "      <th>Text_tokens</th>\n",
       "      <th>Text_tokens_stem</th>\n",
       "      <th>Text_tokens_lemma</th>\n",
       "      <th>snowball_stem</th>\n",
       "    </tr>\n",
       "  </thead>\n",
       "  <tbody>\n",
       "    <tr>\n",
       "      <th>0</th>\n",
       "      <td>Our deeds are the reasons for this #Earthquake caused May ALLAH forgive us all</td>\n",
       "      <td>1</td>\n",
       "      <td>deeds reasons earthquake caused may allah forgive us</td>\n",
       "      <td>[deeds, reasons, earthquake, caused, may, allah, forgive, us]</td>\n",
       "      <td>[deed, reason, earthquak, caus, may, allah, forgiv, us]</td>\n",
       "      <td>[deeds, reason, earthquake, cause, may, allah, forgive, us]</td>\n",
       "      <td>deed reason earthquak caus may allah forgiv us</td>\n",
       "    </tr>\n",
       "    <tr>\n",
       "      <th>1</th>\n",
       "      <td>Forest fire near La Ronge Sask. canada100flemming putted sold</td>\n",
       "      <td>0</td>\n",
       "      <td>forest fire near la ronge sask canada flemming putted sold</td>\n",
       "      <td>[forest, fire, near, la, ronge, sask, canada, flemming, putted, sold]</td>\n",
       "      <td>[forest, fire, near, la, rong, sask, canada, flem, put, sold]</td>\n",
       "      <td>[forest, fire, near, la, ronge, sask, canada, flemming, putt, sell]</td>\n",
       "      <td>forest fire near la rong sask canada flem put sold</td>\n",
       "    </tr>\n",
       "    <tr>\n",
       "      <th>2</th>\n",
       "      <td>Now, this is a dummy DataSet just for playing with NLP!!</td>\n",
       "      <td>0</td>\n",
       "      <td>dummy dataset playing nlp</td>\n",
       "      <td>[dummy, dataset, playing, nlp]</td>\n",
       "      <td>[dummi, dataset, play, nlp]</td>\n",
       "      <td>[dummy, dataset, play, nlp]</td>\n",
       "      <td>dummi dataset play nlp</td>\n",
       "    </tr>\n",
       "    <tr>\n",
       "      <th>3</th>\n",
       "      <td>We are playing or played$ , I'm in1a 5 meeting</td>\n",
       "      <td>1</td>\n",
       "      <td>playing played im meeting</td>\n",
       "      <td>[playing, played, im, meeting]</td>\n",
       "      <td>[play, play, im, meet]</td>\n",
       "      <td>[play, play, im, meet]</td>\n",
       "      <td>play play im meet</td>\n",
       "    </tr>\n",
       "  </tbody>\n",
       "</table>\n",
       "</div>"
      ],
      "text/plain": [
       "                                                                             Text  Class                                                  Text_clean                                                            Text_tokens                                               Text_tokens_stem                                                    Text_tokens_lemma                                       snowball_stem\n",
       "0  Our deeds are the reasons for this #Earthquake caused May ALLAH forgive us all      1        deeds reasons earthquake caused may allah forgive us          [deeds, reasons, earthquake, caused, may, allah, forgive, us]        [deed, reason, earthquak, caus, may, allah, forgiv, us]          [deeds, reason, earthquake, cause, may, allah, forgive, us]      deed reason earthquak caus may allah forgiv us\n",
       "1                   Forest fire near La Ronge Sask. canada100flemming putted sold      0  forest fire near la ronge sask canada flemming putted sold  [forest, fire, near, la, ronge, sask, canada, flemming, putted, sold]  [forest, fire, near, la, rong, sask, canada, flem, put, sold]  [forest, fire, near, la, ronge, sask, canada, flemming, putt, sell]  forest fire near la rong sask canada flem put sold\n",
       "2                        Now, this is a dummy DataSet just for playing with NLP!!      0                                   dummy dataset playing nlp                                         [dummy, dataset, playing, nlp]                                    [dummi, dataset, play, nlp]                                          [dummy, dataset, play, nlp]                              dummi dataset play nlp\n",
       "3                                  We are playing or played$ , I'm in1a 5 meeting      1                                   playing played im meeting                                         [playing, played, im, meeting]                                         [play, play, im, meet]                                               [play, play, im, meet]                                   play play im meet"
      ]
     },
     "execution_count": 19,
     "metadata": {},
     "output_type": "execute_result"
    }
   ],
   "source": [
    "from nltk.stem.snowball import SnowballStemmer\n",
    "englishStemmer=SnowballStemmer(\"english\", ignore_stopwords=True)\n",
    "englishStemmer.stem(\"having\")\n",
    "def snowball_stem(text):\n",
    "    #return( ' '.join([wnl().lemmatize(i) for i in text])\n",
    "    return( ' '.join([englishStemmer.stem(i) for i in text.split()]) )\n",
    "df['snowball_stem'] = df['Text_clean'].apply(snowball_stem)\n",
    "df"
   ]
  },
  {
   "cell_type": "code",
   "execution_count": 20,
   "metadata": {},
   "outputs": [],
   "source": [
    "import gensim\n",
    "from gensim.models import Word2Vec"
   ]
  },
  {
   "cell_type": "code",
   "execution_count": 32,
   "metadata": {},
   "outputs": [
    {
     "data": {
      "text/plain": [
       "[['deeds', 'reason', 'earthquake', 'cause', 'may', 'allah', 'forgive', 'us'],\n",
       " ['forest',\n",
       "  'fire',\n",
       "  'near',\n",
       "  'la',\n",
       "  'ronge',\n",
       "  'sask',\n",
       "  'canada',\n",
       "  'flemming',\n",
       "  'putt',\n",
       "  'sell'],\n",
       " ['dummy', 'dataset', 'play', 'nlp'],\n",
       " ['play', 'play', 'im', 'meet']]"
      ]
     },
     "execution_count": 32,
     "metadata": {},
     "output_type": "execute_result"
    }
   ],
   "source": [
    "list_words = []\n",
    "for i in df['Text_tokens_lemma']:\n",
    "    list_words.append(i)\n",
    "    \n",
    "list_words"
   ]
  },
  {
   "cell_type": "code",
   "execution_count": 22,
   "metadata": {},
   "outputs": [
    {
     "name": "stderr",
     "output_type": "stream",
     "text": [
      "INFO - 09:15:24: collecting all words and their counts\n",
      "INFO - 09:15:24: PROGRESS: at sentence #0, processed 0 words, keeping 0 word types\n",
      "INFO - 09:15:24: collected 24 word types from a corpus of 26 raw words and 4 sentences\n",
      "INFO - 09:15:24: Loading a fresh vocabulary\n",
      "INFO - 09:15:24: effective_min_count=1 retains 24 unique words (100% of original 24, drops 0)\n",
      "INFO - 09:15:24: effective_min_count=1 leaves 26 word corpus (100% of original 26, drops 0)\n",
      "INFO - 09:15:24: deleting the raw counts dictionary of 24 items\n",
      "INFO - 09:15:24: sample=0.001 downsamples 24 most-common words\n",
      "INFO - 09:15:24: downsampling leaves estimated 4 word corpus (17.7% of prior 26)\n",
      "INFO - 09:15:24: estimated required memory for 24 words and 32 dimensions: 18144 bytes\n",
      "INFO - 09:15:24: resetting layer weights\n",
      "INFO - 09:15:24: training model with 3 workers on 24 vocabulary and 32 features, using sg=0 hs=0 sample=0.001 negative=5 window=5\n",
      "INFO - 09:15:24: worker thread finished; awaiting finish of 2 more threads\n",
      "INFO - 09:15:24: worker thread finished; awaiting finish of 1 more threads\n",
      "INFO - 09:15:24: worker thread finished; awaiting finish of 0 more threads\n",
      "INFO - 09:15:24: EPOCH - 1 : training on 26 raw words (4 effective words) took 0.0s, 420 effective words/s\n",
      "INFO - 09:15:24: worker thread finished; awaiting finish of 2 more threads\n",
      "INFO - 09:15:24: worker thread finished; awaiting finish of 1 more threads\n",
      "INFO - 09:15:24: worker thread finished; awaiting finish of 0 more threads\n",
      "INFO - 09:15:24: EPOCH - 2 : training on 26 raw words (5 effective words) took 0.0s, 1162 effective words/s\n",
      "INFO - 09:15:24: worker thread finished; awaiting finish of 2 more threads\n",
      "INFO - 09:15:24: worker thread finished; awaiting finish of 1 more threads\n",
      "INFO - 09:15:24: worker thread finished; awaiting finish of 0 more threads\n",
      "INFO - 09:15:24: EPOCH - 3 : training on 26 raw words (6 effective words) took 0.0s, 1099 effective words/s\n",
      "INFO - 09:15:24: worker thread finished; awaiting finish of 2 more threads\n",
      "INFO - 09:15:24: worker thread finished; awaiting finish of 1 more threads\n",
      "INFO - 09:15:24: worker thread finished; awaiting finish of 0 more threads\n",
      "INFO - 09:15:24: EPOCH - 4 : training on 26 raw words (8 effective words) took 0.0s, 1779 effective words/s\n",
      "INFO - 09:15:24: worker thread finished; awaiting finish of 2 more threads\n",
      "INFO - 09:15:24: worker thread finished; awaiting finish of 1 more threads\n",
      "INFO - 09:15:24: worker thread finished; awaiting finish of 0 more threads\n",
      "INFO - 09:15:24: EPOCH - 5 : training on 26 raw words (5 effective words) took 0.0s, 1025 effective words/s\n",
      "INFO - 09:15:24: training on a 130 raw words (28 effective words) took 0.1s, 483 effective words/s\n",
      "WARNING - 09:15:24: under 10 jobs per worker: consider setting a smaller `batch_words' for smoother alpha decay\n"
     ]
    }
   ],
   "source": [
    "model = Word2Vec(list_words , min_count = 1 , size = 32)"
   ]
  },
  {
   "cell_type": "code",
   "execution_count": 23,
   "metadata": {},
   "outputs": [
    {
     "data": {
      "text/plain": [
       "{'deeds': <gensim.models.keyedvectors.Vocab at 0x20f144ace80>,\n",
       " 'reason': <gensim.models.keyedvectors.Vocab at 0x20f144dce50>,\n",
       " 'earthquake': <gensim.models.keyedvectors.Vocab at 0x20f1f4388b0>,\n",
       " 'cause': <gensim.models.keyedvectors.Vocab at 0x20f1f438e20>,\n",
       " 'may': <gensim.models.keyedvectors.Vocab at 0x20f1f438880>,\n",
       " 'allah': <gensim.models.keyedvectors.Vocab at 0x20f2444a730>,\n",
       " 'forgive': <gensim.models.keyedvectors.Vocab at 0x20f2444a520>,\n",
       " 'us': <gensim.models.keyedvectors.Vocab at 0x20f2444a640>,\n",
       " 'forest': <gensim.models.keyedvectors.Vocab at 0x20f2444a760>,\n",
       " 'fire': <gensim.models.keyedvectors.Vocab at 0x20f2444a5b0>,\n",
       " 'near': <gensim.models.keyedvectors.Vocab at 0x20f2444a610>,\n",
       " 'la': <gensim.models.keyedvectors.Vocab at 0x20f2444a7c0>,\n",
       " 'ronge': <gensim.models.keyedvectors.Vocab at 0x20f2444a040>,\n",
       " 'sask': <gensim.models.keyedvectors.Vocab at 0x20f2444a0a0>,\n",
       " 'canada': <gensim.models.keyedvectors.Vocab at 0x20f2444a100>,\n",
       " 'flemming': <gensim.models.keyedvectors.Vocab at 0x20f2444a5e0>,\n",
       " 'putt': <gensim.models.keyedvectors.Vocab at 0x20f2444a4f0>,\n",
       " 'sell': <gensim.models.keyedvectors.Vocab at 0x20f2444a580>,\n",
       " 'dummy': <gensim.models.keyedvectors.Vocab at 0x20f2444a220>,\n",
       " 'dataset': <gensim.models.keyedvectors.Vocab at 0x20f2444a1c0>,\n",
       " 'play': <gensim.models.keyedvectors.Vocab at 0x20f2444a940>,\n",
       " 'nlp': <gensim.models.keyedvectors.Vocab at 0x20f2444a430>,\n",
       " 'im': <gensim.models.keyedvectors.Vocab at 0x20f2444a190>,\n",
       " 'meet': <gensim.models.keyedvectors.Vocab at 0x20f2444a910>}"
      ]
     },
     "execution_count": 23,
     "metadata": {},
     "output_type": "execute_result"
    }
   ],
   "source": [
    "words = model.wv.vocab\n",
    "words"
   ]
  },
  {
   "cell_type": "code",
   "execution_count": 24,
   "metadata": {},
   "outputs": [
    {
     "data": {
      "text/plain": [
       "<gensim.models.keyedvectors.Vocab at 0x20f2444a940>"
      ]
     },
     "execution_count": 24,
     "metadata": {},
     "output_type": "execute_result"
    }
   ],
   "source": [
    "words['play']"
   ]
  },
  {
   "cell_type": "code",
   "execution_count": 25,
   "metadata": {},
   "outputs": [
    {
     "name": "stdout",
     "output_type": "stream",
     "text": [
      "32\n"
     ]
    },
    {
     "data": {
      "text/plain": [
       "array([-0.01021943, -0.00217725,  0.00776735, -0.00681917,  0.0012494 ,\n",
       "       -0.0077975 ,  0.00777607, -0.00905837, -0.01103895, -0.01003419,\n",
       "       -0.00861255,  0.01253874,  0.00433   , -0.01423948, -0.00979067,\n",
       "        0.01112971,  0.00537659,  0.01266445, -0.00263076, -0.00076148,\n",
       "       -0.00202214,  0.00716948,  0.01023701,  0.00550618,  0.00677035,\n",
       "       -0.0122007 ,  0.00796949, -0.0074447 , -0.01050681,  0.01221122,\n",
       "        0.00776356, -0.0153233 ], dtype=float32)"
      ]
     },
     "execution_count": 25,
     "metadata": {},
     "output_type": "execute_result"
    }
   ],
   "source": [
    "## Getting vectors for a word\n",
    "vector = model.wv['forest']\n",
    "print(vector.size)\n",
    "vector"
   ]
  },
  {
   "cell_type": "code",
   "execution_count": 26,
   "metadata": {},
   "outputs": [
    {
     "data": {
      "text/plain": [
       "array([-0.01021943, -0.00217725,  0.00776735, -0.00681917,  0.0012494 ,\n",
       "       -0.0077975 ,  0.00777607, -0.00905837, -0.01103895, -0.01003419,\n",
       "       -0.00861255,  0.01253874,  0.00433   , -0.01423948, -0.00979067,\n",
       "        0.01112971,  0.00537659,  0.01266445, -0.00263076, -0.00076148,\n",
       "       -0.00202214,  0.00716948,  0.01023701,  0.00550618,  0.00677035,\n",
       "       -0.0122007 ,  0.00796949, -0.0074447 , -0.01050681,  0.01221122,\n",
       "        0.00776356, -0.0153233 ], dtype=float32)"
      ]
     },
     "execution_count": 26,
     "metadata": {},
     "output_type": "execute_result"
    }
   ],
   "source": [
    "## Same as above\n",
    "import warnings\n",
    "warnings.filterwarnings('ignore')\n",
    "model['forest']"
   ]
  },
  {
   "cell_type": "code",
   "execution_count": 27,
   "metadata": {},
   "outputs": [
    {
     "name": "stderr",
     "output_type": "stream",
     "text": [
      "INFO - 09:15:36: precomputing L2-norms of word weight vectors\n"
     ]
    }
   ],
   "source": [
    "## words similarity\n",
    "similar = model.wv.most_similar('earthquake')"
   ]
  },
  {
   "cell_type": "code",
   "execution_count": 28,
   "metadata": {},
   "outputs": [
    {
     "data": {
      "text/plain": [
       "[('dataset', 0.12566746771335602),\n",
       " ('canada', 0.08441205322742462),\n",
       " ('nlp', 0.07293805480003357),\n",
       " ('putt', 0.042243413627147675),\n",
       " ('im', 0.025982894003391266),\n",
       " ('may', 0.01157720759510994),\n",
       " ('fire', 0.005749940872192383),\n",
       " ('deeds', 0.004304327070713043),\n",
       " ('dummy', 0.0036766529083251953),\n",
       " ('flemming', -0.008254095911979675)]"
      ]
     },
     "execution_count": 28,
     "metadata": {},
     "output_type": "execute_result"
    }
   ],
   "source": [
    "similar"
   ]
  },
  {
   "cell_type": "code",
   "execution_count": 29,
   "metadata": {},
   "outputs": [
    {
     "name": "stdout",
     "output_type": "stream",
     "text": [
      "[('dataset', 0.12566746771335602), ('canada', 0.08441205322742462), ('nlp', 0.07293805480003357), ('putt', 0.042243413627147675), ('im', 0.025982894003391266), ('may', 0.01157720759510994), ('fire', 0.005749940872192383), ('deeds', 0.004304327070713043), ('dummy', 0.0036766529083251953), ('flemming', -0.008254095911979675)]\n",
      "\n",
      "[('meet', 0.30478039383888245), ('ronge', 0.287921279668808), ('sask', 0.21181772649288177), ('play', 0.17525731027126312), ('us', 0.17251355946063995), ('la', 0.17247316241264343), ('reason', 0.14447829127311707), ('allah', 0.11280357092618942), ('cause', 0.07960949838161469), ('forest', 0.06455114483833313)]\n",
      "\n",
      "[('flemming', 0.21504506468772888), ('dataset', 0.14621931314468384), ('putt', 0.05679042264819145), ('deeds', 0.04520660638809204), ('canada', 0.019786685705184937), ('forgive', 0.0069839805364608765), ('cause', 0.004367798566818237), ('meet', -0.032165393233299255), ('nlp', -0.07727855443954468), ('allah', -0.0873548611998558)]\n"
     ]
    }
   ],
   "source": [
    "print(model.most_similar(positive=['earthquake']))\n",
    "print()\n",
    "print(model.most_similar(negative=['earthquake']))\n",
    "print()\n",
    "print(model.most_similar(positive=['earthquake'] , negative=['us']))"
   ]
  },
  {
   "cell_type": "code",
   "execution_count": 30,
   "metadata": {},
   "outputs": [
    {
     "name": "stderr",
     "output_type": "stream",
     "text": [
      "WARNING - 09:15:41: vectors for words {'reasons', 'caused'} are not present in the model, ignoring these words\n"
     ]
    },
    {
     "name": "stdout",
     "output_type": "stream",
     "text": [
      "earthquake\n",
      "-0.17251357\n",
      "0.005749896\n",
      "-0.062519826\n",
      "0.004304327\n"
     ]
    }
   ],
   "source": [
    "print(model.wv.doesnt_match(\"deeds reasons earthquake caused may allah forgive us\".split()))\n",
    "\n",
    "print(model.similarity('earthquake', 'us'))\n",
    "print(model.similarity('earthquake', 'fire'))\n",
    "print(model.similarity('earthquake', 'forgive'))\n",
    "print(model.similarity('earthquake', 'deeds'))\n"
   ]
  },
  {
   "cell_type": "code",
   "execution_count": 38,
   "metadata": {
    "collapsed": true
   },
   "outputs": [
    {
     "ename": "DeprecationWarning",
     "evalue": "Deprecated. Use gensim.models.KeyedVectors.load_word2vec_format instead.",
     "output_type": "error",
     "traceback": [
      "\u001b[1;31m---------------------------------------------------------------------------\u001b[0m",
      "\u001b[1;31mDeprecationWarning\u001b[0m                        Traceback (most recent call last)",
      "\u001b[1;32m<ipython-input-38-a878fa50dab0>\u001b[0m in \u001b[0;36m<module>\u001b[1;34m\u001b[0m\n\u001b[0;32m      1\u001b[0m \u001b[1;31m#loading the downloaded model\u001b[0m\u001b[1;33m\u001b[0m\u001b[1;33m\u001b[0m\u001b[1;33m\u001b[0m\u001b[0m\n\u001b[1;32m----> 2\u001b[1;33m \u001b[0mmodel\u001b[0m \u001b[1;33m=\u001b[0m \u001b[0mWord2Vec\u001b[0m\u001b[1;33m.\u001b[0m\u001b[0mload_word2vec_format\u001b[0m\u001b[1;33m(\u001b[0m\u001b[1;34m'GoogleNews-vectors-negative300.bin'\u001b[0m\u001b[1;33m,\u001b[0m \u001b[0mbinary\u001b[0m\u001b[1;33m=\u001b[0m\u001b[1;32mTrue\u001b[0m\u001b[1;33m)\u001b[0m\u001b[1;33m\u001b[0m\u001b[1;33m\u001b[0m\u001b[0m\n\u001b[0m",
      "\u001b[1;32m~\\.conda\\envs\\tensor_ali\\lib\\site-packages\\gensim\\models\\word2vec.py\u001b[0m in \u001b[0;36mload_word2vec_format\u001b[1;34m(cls, fname, fvocab, binary, encoding, unicode_errors, limit, datatype)\u001b[0m\n\u001b[0;32m   1109\u001b[0m             limit=None, datatype=REAL):\n\u001b[0;32m   1110\u001b[0m         \u001b[1;34m\"\"\"Deprecated. Use :meth:`gensim.models.KeyedVectors.load_word2vec_format` instead.\"\"\"\u001b[0m\u001b[1;33m\u001b[0m\u001b[1;33m\u001b[0m\u001b[0m\n\u001b[1;32m-> 1111\u001b[1;33m         \u001b[1;32mraise\u001b[0m \u001b[0mDeprecationWarning\u001b[0m\u001b[1;33m(\u001b[0m\u001b[1;34m\"Deprecated. Use gensim.models.KeyedVectors.load_word2vec_format instead.\"\u001b[0m\u001b[1;33m)\u001b[0m\u001b[1;33m\u001b[0m\u001b[1;33m\u001b[0m\u001b[0m\n\u001b[0m\u001b[0;32m   1112\u001b[0m \u001b[1;33m\u001b[0m\u001b[0m\n\u001b[0;32m   1113\u001b[0m     \u001b[1;32mdef\u001b[0m \u001b[0msave_word2vec_format\u001b[0m\u001b[1;33m(\u001b[0m\u001b[0mself\u001b[0m\u001b[1;33m,\u001b[0m \u001b[0mfname\u001b[0m\u001b[1;33m,\u001b[0m \u001b[0mfvocab\u001b[0m\u001b[1;33m=\u001b[0m\u001b[1;32mNone\u001b[0m\u001b[1;33m,\u001b[0m \u001b[0mbinary\u001b[0m\u001b[1;33m=\u001b[0m\u001b[1;32mFalse\u001b[0m\u001b[1;33m)\u001b[0m\u001b[1;33m:\u001b[0m\u001b[1;33m\u001b[0m\u001b[1;33m\u001b[0m\u001b[0m\n",
      "\u001b[1;31mDeprecationWarning\u001b[0m: Deprecated. Use gensim.models.KeyedVectors.load_word2vec_format instead."
     ]
    }
   ],
   "source": [
    "#loading the downloaded model\n",
    "# We have to downlaod this 1.5GB model (no-way I'm not going to download 😂)\n",
    "model = Word2Vec.load_word2vec_format('GoogleNews-vectors-negative300.bin', binary=True)"
   ]
  },
  {
   "cell_type": "code",
   "execution_count": 29,
   "metadata": {},
   "outputs": [
    {
     "name": "stderr",
     "output_type": "stream",
     "text": [
      "INFO - 22:39:29: loading Word2Vec object from word2vec.model\n",
      "INFO - 22:39:29: loading wv recursively from word2vec.model.wv.* with mmap=None\n",
      "INFO - 22:39:29: setting ignored attribute vectors_norm to None\n",
      "INFO - 22:39:29: loading vocabulary recursively from word2vec.model.vocabulary.* with mmap=None\n",
      "INFO - 22:39:29: loading trainables recursively from word2vec.model.trainables.* with mmap=None\n",
      "INFO - 22:39:29: setting ignored attribute cum_table to None\n",
      "INFO - 22:39:29: loaded word2vec.model\n",
      "INFO - 22:39:29: training model with 3 workers on 24 vocabulary and 32 features, using sg=0 hs=0 sample=0.001 negative=5 window=5\n",
      "INFO - 22:39:29: worker thread finished; awaiting finish of 2 more threads\n",
      "INFO - 22:39:29: worker thread finished; awaiting finish of 1 more threads\n",
      "INFO - 22:39:29: worker thread finished; awaiting finish of 0 more threads\n",
      "INFO - 22:39:29: EPOCH - 1 : training on 4 raw words (0 effective words) took 0.0s, 0 effective words/s\n",
      "INFO - 22:39:29: training on a 4 raw words (0 effective words) took 0.0s, 0 effective words/s\n",
      "WARNING - 22:39:29: under 10 jobs per worker: consider setting a smaller `batch_words' for smoother alpha decay\n"
     ]
    },
    {
     "data": {
      "text/plain": [
       "(0, 4)"
      ]
     },
     "execution_count": 29,
     "metadata": {},
     "output_type": "execute_result"
    }
   ],
   "source": [
    "## Saving , loading and training on new data\n",
    "#model.save(\"word2vec.model\")\n",
    "model = Word2Vec.load(\"word2vec.model\")\n",
    "##Parameters of training\n",
    "##total_examples = int - Count of sentences;\n",
    "##epochs = int - Number of iterations (epochs) over the corpus - [10, 20, 30]\n",
    "\n",
    "model.train([[\"this\", \"woman\" , \"beat\" ,\"man\"]], total_examples=1, epochs=1)"
   ]
  },
  {
   "cell_type": "code",
   "execution_count": 30,
   "metadata": {},
   "outputs": [
    {
     "data": {
      "text/plain": [
       "{'deeds': <gensim.models.keyedvectors.Vocab at 0x21f7f1d5490>,\n",
       " 'reason': <gensim.models.keyedvectors.Vocab at 0x21f0a250490>,\n",
       " 'earthquake': <gensim.models.keyedvectors.Vocab at 0x21f0a2502e0>,\n",
       " 'cause': <gensim.models.keyedvectors.Vocab at 0x21f0f2cde20>,\n",
       " 'may': <gensim.models.keyedvectors.Vocab at 0x21f0f2cdbe0>,\n",
       " 'allah': <gensim.models.keyedvectors.Vocab at 0x21f0f2cd850>,\n",
       " 'forgive': <gensim.models.keyedvectors.Vocab at 0x21f0f2cdd90>,\n",
       " 'us': <gensim.models.keyedvectors.Vocab at 0x21f0f2cdee0>,\n",
       " 'forest': <gensim.models.keyedvectors.Vocab at 0x21f0f2cdfd0>,\n",
       " 'fire': <gensim.models.keyedvectors.Vocab at 0x21f0f2cdc40>,\n",
       " 'near': <gensim.models.keyedvectors.Vocab at 0x21f0f2cdd30>,\n",
       " 'la': <gensim.models.keyedvectors.Vocab at 0x21f0f2cde50>,\n",
       " 'ronge': <gensim.models.keyedvectors.Vocab at 0x21f7ee85310>,\n",
       " 'sask': <gensim.models.keyedvectors.Vocab at 0x21f0f2d0610>,\n",
       " 'canada': <gensim.models.keyedvectors.Vocab at 0x21f0f2d0850>,\n",
       " 'flemming': <gensim.models.keyedvectors.Vocab at 0x21f0f2d00a0>,\n",
       " 'putt': <gensim.models.keyedvectors.Vocab at 0x21f0f2d0160>,\n",
       " 'sell': <gensim.models.keyedvectors.Vocab at 0x21f0f2d0100>,\n",
       " 'dummy': <gensim.models.keyedvectors.Vocab at 0x21f0f2d0220>,\n",
       " 'dataset': <gensim.models.keyedvectors.Vocab at 0x21f0f2d0310>,\n",
       " 'play': <gensim.models.keyedvectors.Vocab at 0x21f0f2d0520>,\n",
       " 'nlp': <gensim.models.keyedvectors.Vocab at 0x21f0f2d05b0>,\n",
       " 'im': <gensim.models.keyedvectors.Vocab at 0x21f0f2d02e0>,\n",
       " 'meet': <gensim.models.keyedvectors.Vocab at 0x21f0f2d01f0>}"
      ]
     },
     "execution_count": 30,
     "metadata": {},
     "output_type": "execute_result"
    }
   ],
   "source": [
    "model.wv.vocab"
   ]
  },
  {
   "cell_type": "code",
   "execution_count": 23,
   "metadata": {
    "collapsed": true
   },
   "outputs": [
    {
     "ename": "KeyError",
     "evalue": "\"word 'woman' not in vocabulary\"",
     "output_type": "error",
     "traceback": [
      "\u001b[1;31m---------------------------------------------------------------------------\u001b[0m",
      "\u001b[1;31mKeyError\u001b[0m                                  Traceback (most recent call last)",
      "\u001b[1;32m<ipython-input-23-bf713ec03b4a>\u001b[0m in \u001b[0;36m<module>\u001b[1;34m\u001b[0m\n\u001b[1;32m----> 1\u001b[1;33m \u001b[0mmodel\u001b[0m\u001b[1;33m.\u001b[0m\u001b[0mwv\u001b[0m\u001b[1;33m[\u001b[0m\u001b[1;34m'woman'\u001b[0m\u001b[1;33m]\u001b[0m\u001b[1;33m\u001b[0m\u001b[1;33m\u001b[0m\u001b[0m\n\u001b[0m",
      "\u001b[1;32m~\\.conda\\envs\\tensor_ali\\lib\\site-packages\\gensim\\models\\keyedvectors.py\u001b[0m in \u001b[0;36m__getitem__\u001b[1;34m(self, entities)\u001b[0m\n\u001b[0;32m    351\u001b[0m         \u001b[1;32mif\u001b[0m \u001b[0misinstance\u001b[0m\u001b[1;33m(\u001b[0m\u001b[0mentities\u001b[0m\u001b[1;33m,\u001b[0m \u001b[0mstring_types\u001b[0m\u001b[1;33m)\u001b[0m\u001b[1;33m:\u001b[0m\u001b[1;33m\u001b[0m\u001b[1;33m\u001b[0m\u001b[0m\n\u001b[0;32m    352\u001b[0m             \u001b[1;31m# allow calls like trained_model['office'], as a shorthand for trained_model[['office']]\u001b[0m\u001b[1;33m\u001b[0m\u001b[1;33m\u001b[0m\u001b[1;33m\u001b[0m\u001b[0m\n\u001b[1;32m--> 353\u001b[1;33m             \u001b[1;32mreturn\u001b[0m \u001b[0mself\u001b[0m\u001b[1;33m.\u001b[0m\u001b[0mget_vector\u001b[0m\u001b[1;33m(\u001b[0m\u001b[0mentities\u001b[0m\u001b[1;33m)\u001b[0m\u001b[1;33m\u001b[0m\u001b[1;33m\u001b[0m\u001b[0m\n\u001b[0m\u001b[0;32m    354\u001b[0m \u001b[1;33m\u001b[0m\u001b[0m\n\u001b[0;32m    355\u001b[0m         \u001b[1;32mreturn\u001b[0m \u001b[0mvstack\u001b[0m\u001b[1;33m(\u001b[0m\u001b[1;33m[\u001b[0m\u001b[0mself\u001b[0m\u001b[1;33m.\u001b[0m\u001b[0mget_vector\u001b[0m\u001b[1;33m(\u001b[0m\u001b[0mentity\u001b[0m\u001b[1;33m)\u001b[0m \u001b[1;32mfor\u001b[0m \u001b[0mentity\u001b[0m \u001b[1;32min\u001b[0m \u001b[0mentities\u001b[0m\u001b[1;33m]\u001b[0m\u001b[1;33m)\u001b[0m\u001b[1;33m\u001b[0m\u001b[1;33m\u001b[0m\u001b[0m\n",
      "\u001b[1;32m~\\.conda\\envs\\tensor_ali\\lib\\site-packages\\gensim\\models\\keyedvectors.py\u001b[0m in \u001b[0;36mget_vector\u001b[1;34m(self, word)\u001b[0m\n\u001b[0;32m    469\u001b[0m \u001b[1;33m\u001b[0m\u001b[0m\n\u001b[0;32m    470\u001b[0m     \u001b[1;32mdef\u001b[0m \u001b[0mget_vector\u001b[0m\u001b[1;33m(\u001b[0m\u001b[0mself\u001b[0m\u001b[1;33m,\u001b[0m \u001b[0mword\u001b[0m\u001b[1;33m)\u001b[0m\u001b[1;33m:\u001b[0m\u001b[1;33m\u001b[0m\u001b[1;33m\u001b[0m\u001b[0m\n\u001b[1;32m--> 471\u001b[1;33m         \u001b[1;32mreturn\u001b[0m \u001b[0mself\u001b[0m\u001b[1;33m.\u001b[0m\u001b[0mword_vec\u001b[0m\u001b[1;33m(\u001b[0m\u001b[0mword\u001b[0m\u001b[1;33m)\u001b[0m\u001b[1;33m\u001b[0m\u001b[1;33m\u001b[0m\u001b[0m\n\u001b[0m\u001b[0;32m    472\u001b[0m \u001b[1;33m\u001b[0m\u001b[0m\n\u001b[0;32m    473\u001b[0m     \u001b[1;32mdef\u001b[0m \u001b[0mwords_closer_than\u001b[0m\u001b[1;33m(\u001b[0m\u001b[0mself\u001b[0m\u001b[1;33m,\u001b[0m \u001b[0mw1\u001b[0m\u001b[1;33m,\u001b[0m \u001b[0mw2\u001b[0m\u001b[1;33m)\u001b[0m\u001b[1;33m:\u001b[0m\u001b[1;33m\u001b[0m\u001b[1;33m\u001b[0m\u001b[0m\n",
      "\u001b[1;32m~\\.conda\\envs\\tensor_ali\\lib\\site-packages\\gensim\\models\\keyedvectors.py\u001b[0m in \u001b[0;36mword_vec\u001b[1;34m(self, word, use_norm)\u001b[0m\n\u001b[0;32m    466\u001b[0m             \u001b[1;32mreturn\u001b[0m \u001b[0mresult\u001b[0m\u001b[1;33m\u001b[0m\u001b[1;33m\u001b[0m\u001b[0m\n\u001b[0;32m    467\u001b[0m         \u001b[1;32melse\u001b[0m\u001b[1;33m:\u001b[0m\u001b[1;33m\u001b[0m\u001b[1;33m\u001b[0m\u001b[0m\n\u001b[1;32m--> 468\u001b[1;33m             \u001b[1;32mraise\u001b[0m \u001b[0mKeyError\u001b[0m\u001b[1;33m(\u001b[0m\u001b[1;34m\"word '%s' not in vocabulary\"\u001b[0m \u001b[1;33m%\u001b[0m \u001b[0mword\u001b[0m\u001b[1;33m)\u001b[0m\u001b[1;33m\u001b[0m\u001b[1;33m\u001b[0m\u001b[0m\n\u001b[0m\u001b[0;32m    469\u001b[0m \u001b[1;33m\u001b[0m\u001b[0m\n\u001b[0;32m    470\u001b[0m     \u001b[1;32mdef\u001b[0m \u001b[0mget_vector\u001b[0m\u001b[1;33m(\u001b[0m\u001b[0mself\u001b[0m\u001b[1;33m,\u001b[0m \u001b[0mword\u001b[0m\u001b[1;33m)\u001b[0m\u001b[1;33m:\u001b[0m\u001b[1;33m\u001b[0m\u001b[1;33m\u001b[0m\u001b[0m\n",
      "\u001b[1;31mKeyError\u001b[0m: \"word 'woman' not in vocabulary\""
     ]
    }
   ],
   "source": [
    "model.wv['woman']"
   ]
  },
  {
   "cell_type": "markdown",
   "metadata": {},
   "source": [
    "## Storing just words and thier tranned embedding"
   ]
  },
  {
   "cell_type": "code",
   "execution_count": 24,
   "metadata": {},
   "outputs": [
    {
     "data": {
      "text/plain": [
       "array([ 5.31197572e-03,  5.60992910e-03, -1.53754547e-03, -9.63534974e-03,\n",
       "       -3.69722163e-03,  4.07407759e-03,  1.27265314e-02, -1.26016606e-02,\n",
       "        3.60285667e-05, -1.54112456e-02,  1.36511195e-02, -8.79176985e-03,\n",
       "        6.88094506e-03, -1.05471127e-02,  4.25998494e-03,  5.00337966e-03,\n",
       "        1.25492725e-03, -8.54372140e-03, -4.84031299e-03,  1.14854285e-02,\n",
       "        1.08906543e-02, -6.10839343e-03,  1.28828213e-02,  8.14270880e-03,\n",
       "       -6.21333951e-04,  1.30769685e-02, -6.55609043e-03,  5.47078764e-03,\n",
       "       -1.06588025e-02,  1.46703757e-02, -4.66410536e-03, -5.46782138e-03],\n",
       "      dtype=float32)"
      ]
     },
     "execution_count": 24,
     "metadata": {},
     "output_type": "execute_result"
    }
   ],
   "source": [
    "from gensim.models import KeyedVectors\n",
    "word_vectors = model.wv\n",
    "word_vectors.save(\"word2vec.wordvectors\")\n",
    "# Load back with memory-mapping = read-only, shared across processes.\n",
    "wv = KeyedVectors.load(\"word2vec.wordvectors\", mmap='r')\n",
    "vector = wv['earthquake']\n",
    "vector"
   ]
  },
  {
   "cell_type": "code",
   "execution_count": 33,
   "metadata": {},
   "outputs": [
    {
     "name": "stderr",
     "output_type": "stream",
     "text": [
      "INFO - 18:53:43: estimated required memory for 24 words and 32 dimensions: 18144 bytes\n"
     ]
    },
    {
     "name": "stdout",
     "output_type": "stream",
     "text": [
      "{'vocab': 12000, 'vectors': 3072, 'syn1neg': 3072, 'total': 18144}\n",
      "[('may', 0.04166706), ('us', 0.041667007)]\n",
      "Word2Vec(vocab=24, size=32, alpha=0.025)\n"
     ]
    }
   ],
   "source": [
    "## our model is taking 18144 bytes of memory total\n",
    "print(model.estimate_memory(vocab_size=24))\n",
    "print(model.predict_output_word(['deeds', 'reason', 'earthquake'], topn=2))\n",
    "print(model)"
   ]
  },
  {
   "cell_type": "markdown",
   "metadata": {},
   "source": [
    "## Bigrams , checking overall vocabulary"
   ]
  },
  {
   "cell_type": "code",
   "execution_count": 33,
   "metadata": {},
   "outputs": [],
   "source": [
    "from gensim.models.phrases import Phrases, Phraser"
   ]
  },
  {
   "cell_type": "code",
   "execution_count": 34,
   "metadata": {},
   "outputs": [
    {
     "name": "stderr",
     "output_type": "stream",
     "text": [
      "INFO - 09:17:51: collecting all words and their counts\n",
      "INFO - 09:17:51: PROGRESS: at sentence #0, processed 0 words and 0 word types\n",
      "INFO - 09:17:51: collected 46 word types from a corpus of 26 words (unigram + bigrams) and 4 sentences\n",
      "INFO - 09:17:51: using 46 counts as vocab in Phrases<0 vocab, min_count=1, threshold=10.0, max_vocab_size=40000000>\n"
     ]
    },
    {
     "data": {
      "text/plain": [
       "<gensim.models.phrases.Phrases at 0x20f26101280>"
      ]
     },
     "execution_count": 34,
     "metadata": {},
     "output_type": "execute_result"
    }
   ],
   "source": [
    "phrases = Phrases(list_words, min_count=1, progress_per=10000)\n",
    "phrases"
   ]
  },
  {
   "cell_type": "code",
   "execution_count": 35,
   "metadata": {},
   "outputs": [
    {
     "data": {
      "text/plain": [
       "<gensim.interfaces.TransformedCorpus at 0x20f261011c0>"
      ]
     },
     "execution_count": 35,
     "metadata": {},
     "output_type": "execute_result"
    }
   ],
   "source": [
    "tranfomred = phrases[list_words]\n",
    "tranfomred"
   ]
  },
  {
   "cell_type": "code",
   "execution_count": 36,
   "metadata": {},
   "outputs": [
    {
     "name": "stderr",
     "output_type": "stream",
     "text": [
      "INFO - 09:17:55: source_vocab length 46\n",
      "INFO - 09:17:55: Phraser built with 0 phrasegrams\n"
     ]
    },
    {
     "data": {
      "text/plain": [
       "<gensim.models.phrases.Phraser at 0x20f26101220>"
      ]
     },
     "execution_count": 36,
     "metadata": {},
     "output_type": "execute_result"
    }
   ],
   "source": [
    "bigram = Phraser(phrases)\n",
    "bigram"
   ]
  },
  {
   "cell_type": "code",
   "execution_count": 37,
   "metadata": {},
   "outputs": [
    {
     "name": "stdout",
     "output_type": "stream",
     "text": [
      "<class 'gensim.interfaces.TransformedCorpus'>\n"
     ]
    },
    {
     "data": {
      "text/plain": [
       "<gensim.interfaces.TransformedCorpus at 0x20f260e5340>"
      ]
     },
     "execution_count": 37,
     "metadata": {},
     "output_type": "execute_result"
    }
   ],
   "source": [
    "sentences = bigram[list_words]\n",
    "print(type(sentences))\n",
    "sentences\n"
   ]
  },
  {
   "cell_type": "code",
   "execution_count": 38,
   "metadata": {},
   "outputs": [
    {
     "name": "stdout",
     "output_type": "stream",
     "text": [
      "24\n"
     ]
    },
    {
     "data": {
      "text/plain": [
       "defaultdict(int,\n",
       "            {'deeds': 1,\n",
       "             'reason': 1,\n",
       "             'earthquake': 1,\n",
       "             'cause': 1,\n",
       "             'may': 1,\n",
       "             'allah': 1,\n",
       "             'forgive': 1,\n",
       "             'us': 1,\n",
       "             'forest': 1,\n",
       "             'fire': 1,\n",
       "             'near': 1,\n",
       "             'la': 1,\n",
       "             'ronge': 1,\n",
       "             'sask': 1,\n",
       "             'canada': 1,\n",
       "             'flemming': 1,\n",
       "             'putt': 1,\n",
       "             'sell': 1,\n",
       "             'dummy': 1,\n",
       "             'dataset': 1,\n",
       "             'play': 3,\n",
       "             'nlp': 1,\n",
       "             'im': 1,\n",
       "             'meet': 1})"
      ]
     },
     "execution_count": 38,
     "metadata": {},
     "output_type": "execute_result"
    }
   ],
   "source": [
    "from collections import defaultdict\n",
    "dic = defaultdict(int)\n",
    "for i in sentences:\n",
    "    for j in i:\n",
    "        dic[j]+=1\n",
    "print(len(dic))\n",
    "dic"
   ]
  },
  {
   "cell_type": "code",
   "execution_count": 39,
   "metadata": {},
   "outputs": [
    {
     "name": "stdout",
     "output_type": "stream",
     "text": [
      "['play', 'deeds', 'reason', 'earthquake', 'cause', 'may', 'allah', 'forgive', 'us', 'forest', 'fire', 'near', 'la', 'ronge', 'sask', 'canada', 'flemming', 'putt', 'sell', 'dummy', 'dataset', 'nlp', 'im', 'meet']\n"
     ]
    },
    {
     "data": {
      "text/plain": [
       "3"
      ]
     },
     "execution_count": 39,
     "metadata": {},
     "output_type": "execute_result"
    }
   ],
   "source": [
    "print(sorted(dic , key=dic.get , reverse=True))\n",
    "dic.get('play')"
   ]
  },
  {
   "cell_type": "code",
   "execution_count": null,
   "metadata": {},
   "outputs": [],
   "source": []
  },
  {
   "cell_type": "code",
   "execution_count": 32,
   "metadata": {},
   "outputs": [
    {
     "name": "stderr",
     "output_type": "stream",
     "text": [
      "INFO - 22:54:06: collecting all words and their counts\n",
      "INFO - 22:54:06: PROGRESS: at sentence #0, processed 0 words, keeping 0 word types\n",
      "INFO - 22:54:06: collected 24 word types from a corpus of 26 raw words and 4 sentences\n",
      "INFO - 22:54:06: Loading a fresh vocabulary\n",
      "INFO - 22:54:06: effective_min_count=1 retains 24 unique words (100% of original 24, drops 0)\n",
      "INFO - 22:54:06: effective_min_count=1 leaves 26 word corpus (100% of original 26, drops 0)\n",
      "INFO - 22:54:06: deleting the raw counts dictionary of 24 items\n",
      "INFO - 22:54:06: sample=0.001 downsamples 24 most-common words\n",
      "INFO - 22:54:06: downsampling leaves estimated 4 word corpus (17.7% of prior 26)\n",
      "INFO - 22:54:06: estimated required memory for 24 words and 300 dimensions: 69600 bytes\n",
      "INFO - 22:54:06: resetting layer weights\n"
     ]
    },
    {
     "name": "stdout",
     "output_type": "stream",
     "text": [
      "None\n"
     ]
    }
   ],
   "source": [
    "w2v_model = Word2Vec(min_count=1,\n",
    "                     window=5,\n",
    "                     size=300, \n",
    "                     alpha=0.03, \n",
    "                     min_alpha=0.0007, \n",
    "                     negative=1,\n",
    "                     workers=cores-1)\n",
    "model_2 = w2v_model.build_vocab(sentences, progress_per=10000)\n",
    "print(model_2)\n",
    "#print(model)"
   ]
  },
  {
   "cell_type": "code",
   "execution_count": 33,
   "metadata": {
    "scrolled": true
   },
   "outputs": [
    {
     "name": "stderr",
     "output_type": "stream",
     "text": [
      "INFO - 22:54:08: training model with 3 workers on 24 vocabulary and 300 features, using sg=0 hs=0 sample=0.001 negative=1 window=5\n",
      "INFO - 22:54:08: worker thread finished; awaiting finish of 2 more threads\n",
      "INFO - 22:54:08: worker thread finished; awaiting finish of 1 more threads\n",
      "INFO - 22:54:08: worker thread finished; awaiting finish of 0 more threads\n",
      "INFO - 22:54:08: EPOCH - 1 : training on 26 raw words (4 effective words) took 0.0s, 714 effective words/s\n",
      "INFO - 22:54:08: worker thread finished; awaiting finish of 2 more threads\n",
      "INFO - 22:54:08: worker thread finished; awaiting finish of 1 more threads\n",
      "INFO - 22:54:08: worker thread finished; awaiting finish of 0 more threads\n",
      "INFO - 22:54:08: EPOCH - 2 : training on 26 raw words (5 effective words) took 0.0s, 1089 effective words/s\n",
      "INFO - 22:54:08: worker thread finished; awaiting finish of 2 more threads\n",
      "INFO - 22:54:08: worker thread finished; awaiting finish of 1 more threads\n",
      "INFO - 22:54:08: worker thread finished; awaiting finish of 0 more threads\n",
      "INFO - 22:54:08: EPOCH - 3 : training on 26 raw words (6 effective words) took 0.0s, 1342 effective words/s\n",
      "INFO - 22:54:08: worker thread finished; awaiting finish of 2 more threads\n",
      "INFO - 22:54:08: worker thread finished; awaiting finish of 1 more threads\n",
      "INFO - 22:54:08: worker thread finished; awaiting finish of 0 more threads\n",
      "INFO - 22:54:08: EPOCH - 4 : training on 26 raw words (8 effective words) took 0.0s, 1806 effective words/s\n",
      "INFO - 22:54:08: worker thread finished; awaiting finish of 2 more threads\n",
      "INFO - 22:54:08: worker thread finished; awaiting finish of 1 more threads\n",
      "INFO - 22:54:08: worker thread finished; awaiting finish of 0 more threads\n",
      "INFO - 22:54:08: EPOCH - 5 : training on 26 raw words (5 effective words) took 0.0s, 1135 effective words/s\n",
      "INFO - 22:54:08: worker thread finished; awaiting finish of 2 more threads\n",
      "INFO - 22:54:08: worker thread finished; awaiting finish of 1 more threads\n",
      "INFO - 22:54:08: worker thread finished; awaiting finish of 0 more threads\n",
      "INFO - 22:54:08: EPOCH - 6 : training on 26 raw words (5 effective words) took 0.0s, 1041 effective words/s\n",
      "INFO - 22:54:08: worker thread finished; awaiting finish of 2 more threads\n",
      "INFO - 22:54:08: worker thread finished; awaiting finish of 1 more threads\n",
      "INFO - 22:54:08: worker thread finished; awaiting finish of 0 more threads\n",
      "INFO - 22:54:08: EPOCH - 7 : training on 26 raw words (4 effective words) took 0.0s, 645 effective words/s\n",
      "INFO - 22:54:08: worker thread finished; awaiting finish of 2 more threads\n",
      "INFO - 22:54:08: worker thread finished; awaiting finish of 1 more threads\n",
      "INFO - 22:54:08: worker thread finished; awaiting finish of 0 more threads\n",
      "INFO - 22:54:08: EPOCH - 8 : training on 26 raw words (4 effective words) took 0.0s, 970 effective words/s\n",
      "INFO - 22:54:08: worker thread finished; awaiting finish of 2 more threads\n",
      "INFO - 22:54:08: worker thread finished; awaiting finish of 1 more threads\n",
      "INFO - 22:54:08: worker thread finished; awaiting finish of 0 more threads\n",
      "INFO - 22:54:08: EPOCH - 9 : training on 26 raw words (4 effective words) took 0.0s, 1139 effective words/s\n",
      "INFO - 22:54:08: worker thread finished; awaiting finish of 2 more threads\n",
      "INFO - 22:54:08: worker thread finished; awaiting finish of 1 more threads\n",
      "INFO - 22:54:08: worker thread finished; awaiting finish of 0 more threads\n",
      "INFO - 22:54:08: EPOCH - 10 : training on 26 raw words (4 effective words) took 0.0s, 438 effective words/s\n",
      "INFO - 22:54:08: worker thread finished; awaiting finish of 2 more threads\n",
      "INFO - 22:54:08: worker thread finished; awaiting finish of 1 more threads\n",
      "INFO - 22:54:08: worker thread finished; awaiting finish of 0 more threads\n",
      "INFO - 22:54:08: EPOCH - 11 : training on 26 raw words (5 effective words) took 0.0s, 871 effective words/s\n",
      "INFO - 22:54:08: worker thread finished; awaiting finish of 2 more threads\n",
      "INFO - 22:54:08: worker thread finished; awaiting finish of 1 more threads\n",
      "INFO - 22:54:08: worker thread finished; awaiting finish of 0 more threads\n",
      "INFO - 22:54:08: EPOCH - 12 : training on 26 raw words (5 effective words) took 0.0s, 980 effective words/s\n",
      "INFO - 22:54:08: worker thread finished; awaiting finish of 2 more threads\n",
      "INFO - 22:54:08: worker thread finished; awaiting finish of 1 more threads\n",
      "INFO - 22:54:08: worker thread finished; awaiting finish of 0 more threads\n",
      "INFO - 22:54:08: EPOCH - 13 : training on 26 raw words (8 effective words) took 0.0s, 1643 effective words/s\n",
      "INFO - 22:54:08: worker thread finished; awaiting finish of 2 more threads\n",
      "INFO - 22:54:08: worker thread finished; awaiting finish of 1 more threads\n",
      "INFO - 22:54:08: worker thread finished; awaiting finish of 0 more threads\n",
      "INFO - 22:54:08: EPOCH - 14 : training on 26 raw words (6 effective words) took 0.0s, 1341 effective words/s\n",
      "INFO - 22:54:08: worker thread finished; awaiting finish of 2 more threads\n"
     ]
    },
    {
     "name": "stdout",
     "output_type": "stream",
     "text": [
      "4\n"
     ]
    },
    {
     "name": "stderr",
     "output_type": "stream",
     "text": [
      "INFO - 22:54:08: worker thread finished; awaiting finish of 1 more threads\n",
      "INFO - 22:54:08: worker thread finished; awaiting finish of 0 more threads\n",
      "INFO - 22:54:08: EPOCH - 15 : training on 26 raw words (6 effective words) took 0.0s, 1374 effective words/s\n",
      "INFO - 22:54:08: worker thread finished; awaiting finish of 2 more threads\n",
      "INFO - 22:54:08: worker thread finished; awaiting finish of 1 more threads\n",
      "INFO - 22:54:08: worker thread finished; awaiting finish of 0 more threads\n",
      "INFO - 22:54:08: EPOCH - 16 : training on 26 raw words (3 effective words) took 0.0s, 690 effective words/s\n",
      "INFO - 22:54:08: worker thread finished; awaiting finish of 2 more threads\n",
      "INFO - 22:54:08: worker thread finished; awaiting finish of 1 more threads\n",
      "INFO - 22:54:08: worker thread finished; awaiting finish of 0 more threads\n",
      "INFO - 22:54:08: EPOCH - 17 : training on 26 raw words (5 effective words) took 0.0s, 660 effective words/s\n",
      "INFO - 22:54:08: worker thread finished; awaiting finish of 2 more threads\n",
      "INFO - 22:54:08: worker thread finished; awaiting finish of 1 more threads\n",
      "INFO - 22:54:08: worker thread finished; awaiting finish of 0 more threads\n",
      "INFO - 22:54:08: EPOCH - 18 : training on 26 raw words (3 effective words) took 0.0s, 615 effective words/s\n",
      "INFO - 22:54:08: worker thread finished; awaiting finish of 2 more threads\n",
      "INFO - 22:54:08: worker thread finished; awaiting finish of 1 more threads\n",
      "INFO - 22:54:08: worker thread finished; awaiting finish of 0 more threads\n",
      "INFO - 22:54:08: EPOCH - 19 : training on 26 raw words (6 effective words) took 0.0s, 762 effective words/s\n",
      "INFO - 22:54:08: worker thread finished; awaiting finish of 2 more threads\n",
      "INFO - 22:54:08: worker thread finished; awaiting finish of 1 more threads\n",
      "INFO - 22:54:08: worker thread finished; awaiting finish of 0 more threads\n",
      "INFO - 22:54:08: EPOCH - 20 : training on 26 raw words (7 effective words) took 0.0s, 1515 effective words/s\n",
      "INFO - 22:54:08: worker thread finished; awaiting finish of 2 more threads\n",
      "INFO - 22:54:08: worker thread finished; awaiting finish of 1 more threads\n",
      "INFO - 22:54:08: worker thread finished; awaiting finish of 0 more threads\n",
      "INFO - 22:54:08: EPOCH - 21 : training on 26 raw words (4 effective words) took 0.0s, 742 effective words/s\n",
      "INFO - 22:54:08: worker thread finished; awaiting finish of 2 more threads\n",
      "INFO - 22:54:08: worker thread finished; awaiting finish of 1 more threads\n",
      "INFO - 22:54:08: worker thread finished; awaiting finish of 0 more threads\n",
      "INFO - 22:54:08: EPOCH - 22 : training on 26 raw words (3 effective words) took 0.0s, 633 effective words/s\n",
      "INFO - 22:54:08: worker thread finished; awaiting finish of 2 more threads\n",
      "INFO - 22:54:08: worker thread finished; awaiting finish of 1 more threads\n",
      "INFO - 22:54:08: worker thread finished; awaiting finish of 0 more threads\n",
      "INFO - 22:54:08: EPOCH - 23 : training on 26 raw words (5 effective words) took 0.0s, 824 effective words/s\n",
      "INFO - 22:54:08: worker thread finished; awaiting finish of 2 more threads\n",
      "INFO - 22:54:08: worker thread finished; awaiting finish of 1 more threads\n",
      "INFO - 22:54:08: worker thread finished; awaiting finish of 0 more threads\n",
      "INFO - 22:54:08: EPOCH - 24 : training on 26 raw words (4 effective words) took 0.0s, 703 effective words/s\n",
      "INFO - 22:54:08: worker thread finished; awaiting finish of 2 more threads\n",
      "INFO - 22:54:08: worker thread finished; awaiting finish of 1 more threads\n",
      "INFO - 22:54:08: worker thread finished; awaiting finish of 0 more threads\n",
      "INFO - 22:54:08: EPOCH - 25 : training on 26 raw words (3 effective words) took 0.0s, 380 effective words/s\n",
      "INFO - 22:54:08: worker thread finished; awaiting finish of 2 more threads\n",
      "INFO - 22:54:08: worker thread finished; awaiting finish of 1 more threads\n",
      "INFO - 22:54:08: worker thread finished; awaiting finish of 0 more threads\n",
      "INFO - 22:54:08: EPOCH - 26 : training on 26 raw words (4 effective words) took 0.0s, 587 effective words/s\n",
      "INFO - 22:54:08: worker thread finished; awaiting finish of 2 more threads\n",
      "INFO - 22:54:08: worker thread finished; awaiting finish of 1 more threads\n",
      "INFO - 22:54:08: worker thread finished; awaiting finish of 0 more threads\n",
      "INFO - 22:54:08: EPOCH - 27 : training on 26 raw words (6 effective words) took 0.0s, 781 effective words/s\n",
      "INFO - 22:54:08: worker thread finished; awaiting finish of 2 more threads\n",
      "INFO - 22:54:08: worker thread finished; awaiting finish of 1 more threads\n",
      "INFO - 22:54:08: worker thread finished; awaiting finish of 0 more threads\n",
      "INFO - 22:54:08: EPOCH - 28 : training on 26 raw words (6 effective words) took 0.0s, 1118 effective words/s\n",
      "INFO - 22:54:08: worker thread finished; awaiting finish of 2 more threads\n",
      "INFO - 22:54:08: worker thread finished; awaiting finish of 1 more threads\n",
      "INFO - 22:54:08: worker thread finished; awaiting finish of 0 more threads\n",
      "INFO - 22:54:08: EPOCH - 29 : training on 26 raw words (3 effective words) took 0.0s, 577 effective words/s\n",
      "INFO - 22:54:08: worker thread finished; awaiting finish of 2 more threads\n",
      "INFO - 22:54:08: worker thread finished; awaiting finish of 1 more threads\n",
      "INFO - 22:54:08: worker thread finished; awaiting finish of 0 more threads\n",
      "INFO - 22:54:08: EPOCH - 30 : training on 26 raw words (4 effective words) took 0.0s, 674 effective words/s\n",
      "INFO - 22:54:08: training on a 780 raw words (145 effective words) took 0.4s, 366 effective words/s\n"
     ]
    },
    {
     "name": "stdout",
     "output_type": "stream",
     "text": [
      "Time to train the model: 0.01 mins\n"
     ]
    }
   ],
   "source": [
    "print(w2v_model.corpus_count)\n",
    "t = time()\n",
    "\n",
    "w2v_model.train(sentences, total_examples=w2v_model.corpus_count, epochs=30, report_delay=1)\n",
    "\n",
    "print('Time to train the model: {} mins'.format(round((time() - t) / 60, 2)))"
   ]
  },
  {
   "cell_type": "code",
   "execution_count": 34,
   "metadata": {},
   "outputs": [
    {
     "name": "stderr",
     "output_type": "stream",
     "text": [
      "INFO - 22:54:10: precomputing L2-norms of word weight vectors\n"
     ]
    }
   ],
   "source": [
    "##As we do not plan to train the model any further, we are calling init_sims(), which will make the model much more memory-efficient:\n",
    "w2v_model.init_sims(replace=True)"
   ]
  },
  {
   "cell_type": "markdown",
   "metadata": {},
   "source": [
    "### Incrementsl training"
   ]
  },
  {
   "cell_type": "code",
   "execution_count": 40,
   "metadata": {},
   "outputs": [
    {
     "name": "stdout",
     "output_type": "stream",
     "text": [
      "[['deeds', 'reason', 'earthquake', 'cause', 'may', 'allah', 'forgive', 'us'], ['forest', 'fire', 'near', 'la', 'ronge', 'sask', 'canada', 'flemming', 'putt', 'sell'], ['dummy', 'dataset', 'play', 'nlp'], ['play', 'play', 'im', 'meet']]\n"
     ]
    }
   ],
   "source": [
    "w2v_model = Word2Vec(min_count=1,\n",
    "                     window=5,\n",
    "                     size=300, \n",
    "                     alpha=0.03, \n",
    "                     min_alpha=0.0007, \n",
    "                     negative=1,\n",
    "                     workers=cores-1)\n",
    "print(list_words)"
   ]
  },
  {
   "cell_type": "code",
   "execution_count": 42,
   "metadata": {},
   "outputs": [
    {
     "name": "stderr",
     "output_type": "stream",
     "text": [
      "INFO - 09:21:44: collecting all words and their counts\n",
      "INFO - 09:21:44: PROGRESS: at sentence #0, processed 0 words, keeping 0 word types\n",
      "INFO - 09:21:44: collected 22 word types from a corpus of 22 raw words and 3 sentences\n",
      "INFO - 09:21:44: Loading a fresh vocabulary\n",
      "INFO - 09:21:44: effective_min_count=1 retains 22 unique words (100% of original 22, drops 0)\n",
      "INFO - 09:21:44: effective_min_count=1 leaves 22 word corpus (100% of original 22, drops 0)\n",
      "INFO - 09:21:44: deleting the raw counts dictionary of 22 items\n",
      "INFO - 09:21:44: sample=0.001 downsamples 22 most-common words\n",
      "INFO - 09:21:44: downsampling leaves estimated 3 word corpus (17.0% of prior 22)\n",
      "INFO - 09:21:44: estimated required memory for 22 words and 300 dimensions: 63800 bytes\n",
      "INFO - 09:21:44: resetting layer weights\n"
     ]
    },
    {
     "name": "stdout",
     "output_type": "stream",
     "text": [
      "None\n"
     ]
    }
   ],
   "source": [
    "model_3 = w2v_model.build_vocab(list_words[0:3], progress_per=10000)\n",
    "print(model_3)\n"
   ]
  },
  {
   "cell_type": "code",
   "execution_count": 44,
   "metadata": {},
   "outputs": [
    {
     "name": "stdout",
     "output_type": "stream",
     "text": [
      "3\n"
     ]
    }
   ],
   "source": [
    "print(w2v_model.corpus_count)"
   ]
  },
  {
   "cell_type": "code",
   "execution_count": 45,
   "metadata": {
    "collapsed": true
   },
   "outputs": [
    {
     "name": "stderr",
     "output_type": "stream",
     "text": [
      "INFO - 09:25:05: training model with 3 workers on 22 vocabulary and 300 features, using sg=0 hs=0 sample=0.001 negative=1 window=5\n",
      "INFO - 09:25:05: worker thread finished; awaiting finish of 2 more threads\n",
      "INFO - 09:25:05: worker thread finished; awaiting finish of 1 more threads\n",
      "INFO - 09:25:05: worker thread finished; awaiting finish of 0 more threads\n",
      "INFO - 09:25:05: EPOCH - 1 : training on 22 raw words (3 effective words) took 0.0s, 658 effective words/s\n",
      "INFO - 09:25:05: worker thread finished; awaiting finish of 2 more threads\n",
      "INFO - 09:25:05: worker thread finished; awaiting finish of 1 more threads\n",
      "INFO - 09:25:05: worker thread finished; awaiting finish of 0 more threads\n",
      "INFO - 09:25:05: EPOCH - 2 : training on 22 raw words (3 effective words) took 0.0s, 613 effective words/s\n",
      "INFO - 09:25:05: worker thread finished; awaiting finish of 2 more threads\n",
      "INFO - 09:25:05: worker thread finished; awaiting finish of 1 more threads\n",
      "INFO - 09:25:05: worker thread finished; awaiting finish of 0 more threads\n",
      "INFO - 09:25:05: EPOCH - 3 : training on 22 raw words (3 effective words) took 0.0s, 653 effective words/s\n",
      "INFO - 09:25:05: worker thread finished; awaiting finish of 2 more threads\n",
      "INFO - 09:25:05: worker thread finished; awaiting finish of 1 more threads\n",
      "INFO - 09:25:05: worker thread finished; awaiting finish of 0 more threads\n",
      "INFO - 09:25:05: EPOCH - 4 : training on 22 raw words (3 effective words) took 0.0s, 720 effective words/s\n",
      "INFO - 09:25:05: worker thread finished; awaiting finish of 2 more threads\n",
      "INFO - 09:25:05: worker thread finished; awaiting finish of 1 more threads\n",
      "INFO - 09:25:05: worker thread finished; awaiting finish of 0 more threads\n",
      "INFO - 09:25:05: EPOCH - 5 : training on 22 raw words (3 effective words) took 0.0s, 513 effective words/s\n",
      "INFO - 09:25:05: worker thread finished; awaiting finish of 2 more threads\n",
      "INFO - 09:25:05: worker thread finished; awaiting finish of 1 more threads\n",
      "INFO - 09:25:05: worker thread finished; awaiting finish of 0 more threads\n",
      "INFO - 09:25:05: EPOCH - 6 : training on 22 raw words (1 effective words) took 0.0s, 205 effective words/s\n",
      "INFO - 09:25:05: worker thread finished; awaiting finish of 2 more threads\n",
      "INFO - 09:25:05: worker thread finished; awaiting finish of 1 more threads\n",
      "INFO - 09:25:05: worker thread finished; awaiting finish of 0 more threads\n",
      "INFO - 09:25:05: EPOCH - 7 : training on 22 raw words (2 effective words) took 0.0s, 404 effective words/s\n",
      "INFO - 09:25:05: worker thread finished; awaiting finish of 2 more threads\n",
      "INFO - 09:25:05: worker thread finished; awaiting finish of 1 more threads\n",
      "INFO - 09:25:05: worker thread finished; awaiting finish of 0 more threads\n",
      "INFO - 09:25:05: EPOCH - 8 : training on 22 raw words (5 effective words) took 0.0s, 1151 effective words/s\n",
      "INFO - 09:25:05: worker thread finished; awaiting finish of 2 more threads\n",
      "INFO - 09:25:05: worker thread finished; awaiting finish of 1 more threads\n",
      "INFO - 09:25:05: worker thread finished; awaiting finish of 0 more threads\n",
      "INFO - 09:25:05: EPOCH - 9 : training on 22 raw words (4 effective words) took 0.0s, 831 effective words/s\n",
      "INFO - 09:25:05: worker thread finished; awaiting finish of 2 more threads\n",
      "INFO - 09:25:05: worker thread finished; awaiting finish of 1 more threads\n",
      "INFO - 09:25:05: worker thread finished; awaiting finish of 0 more threads\n",
      "INFO - 09:25:05: EPOCH - 10 : training on 22 raw words (4 effective words) took 0.0s, 601 effective words/s\n",
      "INFO - 09:25:05: worker thread finished; awaiting finish of 2 more threads\n",
      "INFO - 09:25:05: worker thread finished; awaiting finish of 1 more threads\n",
      "INFO - 09:25:05: worker thread finished; awaiting finish of 0 more threads\n",
      "INFO - 09:25:05: EPOCH - 11 : training on 22 raw words (5 effective words) took 0.0s, 714 effective words/s\n",
      "INFO - 09:25:05: worker thread finished; awaiting finish of 2 more threads\n",
      "INFO - 09:25:05: worker thread finished; awaiting finish of 1 more threads\n",
      "INFO - 09:25:05: worker thread finished; awaiting finish of 0 more threads\n",
      "INFO - 09:25:05: EPOCH - 12 : training on 22 raw words (1 effective words) took 0.0s, 168 effective words/s\n",
      "INFO - 09:25:05: worker thread finished; awaiting finish of 2 more threads\n",
      "INFO - 09:25:05: worker thread finished; awaiting finish of 1 more threads\n",
      "INFO - 09:25:05: worker thread finished; awaiting finish of 0 more threads\n",
      "INFO - 09:25:05: EPOCH - 13 : training on 22 raw words (4 effective words) took 0.0s, 911 effective words/s\n",
      "INFO - 09:25:05: worker thread finished; awaiting finish of 2 more threads\n",
      "INFO - 09:25:05: worker thread finished; awaiting finish of 1 more threads\n",
      "INFO - 09:25:05: worker thread finished; awaiting finish of 0 more threads\n",
      "INFO - 09:25:05: EPOCH - 14 : training on 22 raw words (4 effective words) took 0.0s, 879 effective words/s\n",
      "INFO - 09:25:05: worker thread finished; awaiting finish of 2 more threads\n",
      "INFO - 09:25:05: worker thread finished; awaiting finish of 1 more threads\n",
      "INFO - 09:25:05: worker thread finished; awaiting finish of 0 more threads\n",
      "INFO - 09:25:05: EPOCH - 15 : training on 22 raw words (3 effective words) took 0.0s, 680 effective words/s\n",
      "INFO - 09:25:05: worker thread finished; awaiting finish of 2 more threads\n",
      "INFO - 09:25:05: worker thread finished; awaiting finish of 1 more threads\n",
      "INFO - 09:25:05: worker thread finished; awaiting finish of 0 more threads\n",
      "INFO - 09:25:05: EPOCH - 16 : training on 22 raw words (5 effective words) took 0.0s, 1157 effective words/s\n",
      "INFO - 09:25:05: worker thread finished; awaiting finish of 2 more threads\n",
      "INFO - 09:25:05: worker thread finished; awaiting finish of 1 more threads\n",
      "INFO - 09:25:05: worker thread finished; awaiting finish of 0 more threads\n",
      "INFO - 09:25:05: EPOCH - 17 : training on 22 raw words (4 effective words) took 0.0s, 881 effective words/s\n",
      "INFO - 09:25:05: worker thread finished; awaiting finish of 2 more threads\n",
      "INFO - 09:25:05: worker thread finished; awaiting finish of 1 more threads\n",
      "INFO - 09:25:05: worker thread finished; awaiting finish of 0 more threads\n",
      "INFO - 09:25:05: EPOCH - 18 : training on 22 raw words (1 effective words) took 0.0s, 148 effective words/s\n",
      "INFO - 09:25:05: worker thread finished; awaiting finish of 2 more threads\n",
      "INFO - 09:25:05: worker thread finished; awaiting finish of 1 more threads\n",
      "INFO - 09:25:05: worker thread finished; awaiting finish of 0 more threads\n",
      "INFO - 09:25:05: EPOCH - 19 : training on 22 raw words (4 effective words) took 0.0s, 971 effective words/s\n",
      "INFO - 09:25:05: worker thread finished; awaiting finish of 2 more threads\n",
      "INFO - 09:25:05: worker thread finished; awaiting finish of 1 more threads\n",
      "INFO - 09:25:05: worker thread finished; awaiting finish of 0 more threads\n",
      "INFO - 09:25:05: EPOCH - 20 : training on 22 raw words (8 effective words) took 0.0s, 1718 effective words/s\n",
      "INFO - 09:25:05: worker thread finished; awaiting finish of 2 more threads\n",
      "INFO - 09:25:05: worker thread finished; awaiting finish of 1 more threads\n",
      "INFO - 09:25:05: worker thread finished; awaiting finish of 0 more threads\n",
      "INFO - 09:25:05: EPOCH - 21 : training on 22 raw words (7 effective words) took 0.0s, 1333 effective words/s\n",
      "INFO - 09:25:05: worker thread finished; awaiting finish of 2 more threads\n",
      "INFO - 09:25:05: worker thread finished; awaiting finish of 1 more threads\n",
      "INFO - 09:25:05: worker thread finished; awaiting finish of 0 more threads\n",
      "INFO - 09:25:05: EPOCH - 22 : training on 22 raw words (2 effective words) took 0.0s, 200 effective words/s\n",
      "INFO - 09:25:05: worker thread finished; awaiting finish of 2 more threads\n",
      "INFO - 09:25:05: worker thread finished; awaiting finish of 1 more threads\n",
      "INFO - 09:25:05: worker thread finished; awaiting finish of 0 more threads\n",
      "INFO - 09:25:05: EPOCH - 23 : training on 22 raw words (4 effective words) took 0.0s, 893 effective words/s\n",
      "INFO - 09:25:05: worker thread finished; awaiting finish of 2 more threads\n",
      "INFO - 09:25:05: worker thread finished; awaiting finish of 1 more threads\n",
      "INFO - 09:25:05: worker thread finished; awaiting finish of 0 more threads\n",
      "INFO - 09:25:05: EPOCH - 24 : training on 22 raw words (4 effective words) took 0.0s, 786 effective words/s\n",
      "INFO - 09:25:05: worker thread finished; awaiting finish of 2 more threads\n"
     ]
    },
    {
     "name": "stderr",
     "output_type": "stream",
     "text": [
      "INFO - 09:25:05: worker thread finished; awaiting finish of 1 more threads\n",
      "INFO - 09:25:05: worker thread finished; awaiting finish of 0 more threads\n",
      "INFO - 09:25:05: EPOCH - 25 : training on 22 raw words (3 effective words) took 0.0s, 590 effective words/s\n",
      "INFO - 09:25:05: worker thread finished; awaiting finish of 2 more threads\n",
      "INFO - 09:25:05: worker thread finished; awaiting finish of 1 more threads\n",
      "INFO - 09:25:05: worker thread finished; awaiting finish of 0 more threads\n",
      "INFO - 09:25:05: EPOCH - 26 : training on 22 raw words (3 effective words) took 0.0s, 651 effective words/s\n",
      "INFO - 09:25:05: worker thread finished; awaiting finish of 2 more threads\n",
      "INFO - 09:25:05: worker thread finished; awaiting finish of 1 more threads\n",
      "INFO - 09:25:05: worker thread finished; awaiting finish of 0 more threads\n",
      "INFO - 09:25:05: EPOCH - 27 : training on 22 raw words (6 effective words) took 0.0s, 1336 effective words/s\n",
      "INFO - 09:25:05: worker thread finished; awaiting finish of 2 more threads\n",
      "INFO - 09:25:05: worker thread finished; awaiting finish of 1 more threads\n",
      "INFO - 09:25:05: worker thread finished; awaiting finish of 0 more threads\n",
      "INFO - 09:25:05: EPOCH - 28 : training on 22 raw words (4 effective words) took 0.0s, 903 effective words/s\n",
      "INFO - 09:25:05: worker thread finished; awaiting finish of 2 more threads\n",
      "INFO - 09:25:05: worker thread finished; awaiting finish of 1 more threads\n",
      "INFO - 09:25:05: worker thread finished; awaiting finish of 0 more threads\n",
      "INFO - 09:25:05: EPOCH - 29 : training on 22 raw words (3 effective words) took 0.0s, 480 effective words/s\n",
      "INFO - 09:25:05: worker thread finished; awaiting finish of 2 more threads\n",
      "INFO - 09:25:05: worker thread finished; awaiting finish of 1 more threads\n",
      "INFO - 09:25:05: worker thread finished; awaiting finish of 0 more threads\n",
      "INFO - 09:25:05: EPOCH - 30 : training on 22 raw words (3 effective words) took 0.0s, 669 effective words/s\n",
      "INFO - 09:25:05: training on a 660 raw words (109 effective words) took 0.4s, 310 effective words/s\n"
     ]
    },
    {
     "data": {
      "text/plain": [
       "(109, 660)"
      ]
     },
     "execution_count": 45,
     "metadata": {},
     "output_type": "execute_result"
    }
   ],
   "source": [
    "w2v_model.train(list_words[0:3], total_examples=w2v_model.corpus_count, epochs=30, report_delay=1)"
   ]
  },
  {
   "cell_type": "code",
   "execution_count": 47,
   "metadata": {},
   "outputs": [
    {
     "data": {
      "text/plain": [
       "{'deeds': <gensim.models.keyedvectors.Vocab at 0x20f25e2a310>,\n",
       " 'reason': <gensim.models.keyedvectors.Vocab at 0x20f25e2ae20>,\n",
       " 'earthquake': <gensim.models.keyedvectors.Vocab at 0x20f25e2a130>,\n",
       " 'cause': <gensim.models.keyedvectors.Vocab at 0x20f25e2ac40>,\n",
       " 'may': <gensim.models.keyedvectors.Vocab at 0x20f26003550>,\n",
       " 'allah': <gensim.models.keyedvectors.Vocab at 0x20f260033a0>,\n",
       " 'forgive': <gensim.models.keyedvectors.Vocab at 0x20f26003310>,\n",
       " 'us': <gensim.models.keyedvectors.Vocab at 0x20f26003430>,\n",
       " 'forest': <gensim.models.keyedvectors.Vocab at 0x20f25b49f70>,\n",
       " 'fire': <gensim.models.keyedvectors.Vocab at 0x20f25b49a90>,\n",
       " 'near': <gensim.models.keyedvectors.Vocab at 0x20f25b49940>,\n",
       " 'la': <gensim.models.keyedvectors.Vocab at 0x20f25b49b20>,\n",
       " 'ronge': <gensim.models.keyedvectors.Vocab at 0x20f25b498e0>,\n",
       " 'sask': <gensim.models.keyedvectors.Vocab at 0x20f25b49f40>,\n",
       " 'canada': <gensim.models.keyedvectors.Vocab at 0x20f25dd9df0>,\n",
       " 'flemming': <gensim.models.keyedvectors.Vocab at 0x20f256a6c40>,\n",
       " 'putt': <gensim.models.keyedvectors.Vocab at 0x20f256a6f10>,\n",
       " 'sell': <gensim.models.keyedvectors.Vocab at 0x20f256a6bb0>,\n",
       " 'dummy': <gensim.models.keyedvectors.Vocab at 0x20f256a6e80>,\n",
       " 'dataset': <gensim.models.keyedvectors.Vocab at 0x20f256a66a0>,\n",
       " 'play': <gensim.models.keyedvectors.Vocab at 0x20f256a6130>,\n",
       " 'nlp': <gensim.models.keyedvectors.Vocab at 0x20f256a6ca0>}"
      ]
     },
     "execution_count": 47,
     "metadata": {},
     "output_type": "execute_result"
    }
   ],
   "source": [
    "w2v_model.wv.vocab"
   ]
  },
  {
   "cell_type": "code",
   "execution_count": 53,
   "metadata": {},
   "outputs": [
    {
     "data": {
      "text/plain": [
       "[['play', 'play', 'im', 'meet']]"
      ]
     },
     "execution_count": 53,
     "metadata": {},
     "output_type": "execute_result"
    }
   ],
   "source": [
    "list_words[3:]"
   ]
  },
  {
   "cell_type": "code",
   "execution_count": 54,
   "metadata": {},
   "outputs": [
    {
     "name": "stderr",
     "output_type": "stream",
     "text": [
      "INFO - 09:29:24: collecting all words and their counts\n",
      "INFO - 09:29:24: PROGRESS: at sentence #0, processed 0 words, keeping 0 word types\n",
      "INFO - 09:29:24: collected 3 word types from a corpus of 4 raw words and 1 sentences\n",
      "INFO - 09:29:24: Updating model with new vocabulary\n",
      "INFO - 09:29:24: New added 3 unique words (50% of original 6) and increased the count of 3 pre-existing words (50% of original 6)\n",
      "INFO - 09:29:24: deleting the raw counts dictionary of 3 items\n",
      "INFO - 09:29:24: sample=0.001 downsamples 6 most-common words\n",
      "INFO - 09:29:24: downsampling leaves estimated 0 word corpus (11.4% of prior 4)\n",
      "INFO - 09:29:24: estimated required memory for 6 words and 300 dimensions: 17400 bytes\n",
      "INFO - 09:29:24: updating layer weights\n"
     ]
    }
   ],
   "source": [
    "w2v_model.build_vocab(list_words[3:], progress_per=10000 , update = True)"
   ]
  },
  {
   "cell_type": "code",
   "execution_count": 55,
   "metadata": {
    "collapsed": true
   },
   "outputs": [
    {
     "name": "stderr",
     "output_type": "stream",
     "text": [
      "INFO - 09:29:27: training model with 3 workers on 24 vocabulary and 300 features, using sg=0 hs=0 sample=0.001 negative=1 window=5\n",
      "INFO - 09:29:27: worker thread finished; awaiting finish of 2 more threads\n",
      "INFO - 09:29:27: worker thread finished; awaiting finish of 1 more threads\n",
      "INFO - 09:29:27: worker thread finished; awaiting finish of 0 more threads\n",
      "INFO - 09:29:27: EPOCH - 1 : training on 0 raw words (0 effective words) took 0.0s, 0 effective words/s\n",
      "WARNING - 09:29:27: EPOCH - 1 : supplied example count (0) did not equal expected count (1)\n",
      "INFO - 09:29:27: worker thread finished; awaiting finish of 2 more threads\n",
      "INFO - 09:29:27: worker thread finished; awaiting finish of 1 more threads\n",
      "INFO - 09:29:27: worker thread finished; awaiting finish of 0 more threads\n",
      "INFO - 09:29:27: EPOCH - 2 : training on 0 raw words (0 effective words) took 0.0s, 0 effective words/s\n",
      "WARNING - 09:29:27: EPOCH - 2 : supplied example count (0) did not equal expected count (1)\n",
      "INFO - 09:29:27: worker thread finished; awaiting finish of 2 more threads\n",
      "INFO - 09:29:27: worker thread finished; awaiting finish of 1 more threads\n",
      "INFO - 09:29:27: worker thread finished; awaiting finish of 0 more threads\n",
      "INFO - 09:29:27: EPOCH - 3 : training on 0 raw words (0 effective words) took 0.0s, 0 effective words/s\n",
      "WARNING - 09:29:27: EPOCH - 3 : supplied example count (0) did not equal expected count (1)\n",
      "INFO - 09:29:27: worker thread finished; awaiting finish of 2 more threads\n",
      "INFO - 09:29:27: worker thread finished; awaiting finish of 1 more threads\n",
      "INFO - 09:29:27: worker thread finished; awaiting finish of 0 more threads\n",
      "INFO - 09:29:27: EPOCH - 4 : training on 0 raw words (0 effective words) took 0.0s, 0 effective words/s\n",
      "WARNING - 09:29:27: EPOCH - 4 : supplied example count (0) did not equal expected count (1)\n",
      "INFO - 09:29:27: worker thread finished; awaiting finish of 2 more threads\n",
      "INFO - 09:29:27: worker thread finished; awaiting finish of 1 more threads\n",
      "INFO - 09:29:27: worker thread finished; awaiting finish of 0 more threads\n",
      "INFO - 09:29:27: EPOCH - 5 : training on 0 raw words (0 effective words) took 0.0s, 0 effective words/s\n",
      "WARNING - 09:29:27: EPOCH - 5 : supplied example count (0) did not equal expected count (1)\n",
      "INFO - 09:29:27: worker thread finished; awaiting finish of 2 more threads\n",
      "INFO - 09:29:27: worker thread finished; awaiting finish of 1 more threads\n",
      "INFO - 09:29:27: worker thread finished; awaiting finish of 0 more threads\n",
      "INFO - 09:29:27: EPOCH - 6 : training on 0 raw words (0 effective words) took 0.0s, 0 effective words/s\n",
      "WARNING - 09:29:27: EPOCH - 6 : supplied example count (0) did not equal expected count (1)\n",
      "INFO - 09:29:27: worker thread finished; awaiting finish of 2 more threads\n",
      "INFO - 09:29:27: worker thread finished; awaiting finish of 1 more threads\n",
      "INFO - 09:29:27: worker thread finished; awaiting finish of 0 more threads\n",
      "INFO - 09:29:27: EPOCH - 7 : training on 0 raw words (0 effective words) took 0.0s, 0 effective words/s\n",
      "WARNING - 09:29:27: EPOCH - 7 : supplied example count (0) did not equal expected count (1)\n",
      "INFO - 09:29:27: worker thread finished; awaiting finish of 2 more threads\n",
      "INFO - 09:29:27: worker thread finished; awaiting finish of 1 more threads\n",
      "INFO - 09:29:27: worker thread finished; awaiting finish of 0 more threads\n",
      "INFO - 09:29:27: EPOCH - 8 : training on 0 raw words (0 effective words) took 0.0s, 0 effective words/s\n",
      "WARNING - 09:29:27: EPOCH - 8 : supplied example count (0) did not equal expected count (1)\n",
      "INFO - 09:29:27: worker thread finished; awaiting finish of 2 more threads\n",
      "INFO - 09:29:27: worker thread finished; awaiting finish of 1 more threads\n",
      "INFO - 09:29:27: worker thread finished; awaiting finish of 0 more threads\n",
      "INFO - 09:29:27: EPOCH - 9 : training on 0 raw words (0 effective words) took 0.0s, 0 effective words/s\n",
      "WARNING - 09:29:27: EPOCH - 9 : supplied example count (0) did not equal expected count (1)\n",
      "INFO - 09:29:27: worker thread finished; awaiting finish of 2 more threads\n",
      "INFO - 09:29:27: worker thread finished; awaiting finish of 1 more threads\n",
      "INFO - 09:29:27: worker thread finished; awaiting finish of 0 more threads\n",
      "INFO - 09:29:27: EPOCH - 10 : training on 0 raw words (0 effective words) took 0.0s, 0 effective words/s\n",
      "WARNING - 09:29:27: EPOCH - 10 : supplied example count (0) did not equal expected count (1)\n",
      "INFO - 09:29:27: worker thread finished; awaiting finish of 2 more threads\n",
      "INFO - 09:29:27: worker thread finished; awaiting finish of 1 more threads\n",
      "INFO - 09:29:27: worker thread finished; awaiting finish of 0 more threads\n",
      "INFO - 09:29:27: EPOCH - 11 : training on 0 raw words (0 effective words) took 0.0s, 0 effective words/s\n",
      "WARNING - 09:29:27: EPOCH - 11 : supplied example count (0) did not equal expected count (1)\n",
      "INFO - 09:29:27: worker thread finished; awaiting finish of 2 more threads\n",
      "INFO - 09:29:27: worker thread finished; awaiting finish of 1 more threads\n",
      "INFO - 09:29:27: worker thread finished; awaiting finish of 0 more threads\n",
      "INFO - 09:29:27: EPOCH - 12 : training on 0 raw words (0 effective words) took 0.0s, 0 effective words/s\n",
      "WARNING - 09:29:27: EPOCH - 12 : supplied example count (0) did not equal expected count (1)\n",
      "INFO - 09:29:27: worker thread finished; awaiting finish of 2 more threads\n",
      "INFO - 09:29:27: worker thread finished; awaiting finish of 1 more threads\n",
      "INFO - 09:29:27: worker thread finished; awaiting finish of 0 more threads\n",
      "INFO - 09:29:27: EPOCH - 13 : training on 0 raw words (0 effective words) took 0.0s, 0 effective words/s\n",
      "WARNING - 09:29:27: EPOCH - 13 : supplied example count (0) did not equal expected count (1)\n",
      "INFO - 09:29:27: worker thread finished; awaiting finish of 2 more threads\n",
      "INFO - 09:29:27: worker thread finished; awaiting finish of 1 more threads\n",
      "INFO - 09:29:27: worker thread finished; awaiting finish of 0 more threads\n",
      "INFO - 09:29:27: EPOCH - 14 : training on 0 raw words (0 effective words) took 0.0s, 0 effective words/s\n",
      "WARNING - 09:29:27: EPOCH - 14 : supplied example count (0) did not equal expected count (1)\n",
      "INFO - 09:29:27: worker thread finished; awaiting finish of 2 more threads\n",
      "INFO - 09:29:27: worker thread finished; awaiting finish of 1 more threads\n",
      "INFO - 09:29:27: worker thread finished; awaiting finish of 0 more threads\n",
      "INFO - 09:29:27: EPOCH - 15 : training on 0 raw words (0 effective words) took 0.0s, 0 effective words/s\n",
      "WARNING - 09:29:27: EPOCH - 15 : supplied example count (0) did not equal expected count (1)\n",
      "INFO - 09:29:27: worker thread finished; awaiting finish of 2 more threads\n",
      "INFO - 09:29:27: worker thread finished; awaiting finish of 1 more threads\n",
      "INFO - 09:29:27: worker thread finished; awaiting finish of 0 more threads\n",
      "INFO - 09:29:27: EPOCH - 16 : training on 0 raw words (0 effective words) took 0.0s, 0 effective words/s\n",
      "WARNING - 09:29:27: EPOCH - 16 : supplied example count (0) did not equal expected count (1)\n",
      "INFO - 09:29:27: worker thread finished; awaiting finish of 2 more threads\n",
      "INFO - 09:29:27: worker thread finished; awaiting finish of 1 more threads\n",
      "INFO - 09:29:27: worker thread finished; awaiting finish of 0 more threads\n",
      "INFO - 09:29:27: EPOCH - 17 : training on 0 raw words (0 effective words) took 0.0s, 0 effective words/s\n",
      "WARNING - 09:29:27: EPOCH - 17 : supplied example count (0) did not equal expected count (1)\n",
      "INFO - 09:29:27: worker thread finished; awaiting finish of 2 more threads\n",
      "INFO - 09:29:27: worker thread finished; awaiting finish of 1 more threads\n",
      "INFO - 09:29:27: worker thread finished; awaiting finish of 0 more threads\n",
      "INFO - 09:29:27: EPOCH - 18 : training on 0 raw words (0 effective words) took 0.0s, 0 effective words/s\n",
      "WARNING - 09:29:27: EPOCH - 18 : supplied example count (0) did not equal expected count (1)\n",
      "INFO - 09:29:27: worker thread finished; awaiting finish of 2 more threads\n",
      "INFO - 09:29:27: worker thread finished; awaiting finish of 1 more threads\n",
      "INFO - 09:29:27: worker thread finished; awaiting finish of 0 more threads\n",
      "INFO - 09:29:27: EPOCH - 19 : training on 0 raw words (0 effective words) took 0.0s, 0 effective words/s\n",
      "WARNING - 09:29:27: EPOCH - 19 : supplied example count (0) did not equal expected count (1)\n",
      "INFO - 09:29:27: worker thread finished; awaiting finish of 2 more threads\n"
     ]
    },
    {
     "name": "stderr",
     "output_type": "stream",
     "text": [
      "INFO - 09:29:27: worker thread finished; awaiting finish of 1 more threads\n",
      "INFO - 09:29:27: worker thread finished; awaiting finish of 0 more threads\n",
      "INFO - 09:29:27: EPOCH - 20 : training on 0 raw words (0 effective words) took 0.0s, 0 effective words/s\n",
      "WARNING - 09:29:27: EPOCH - 20 : supplied example count (0) did not equal expected count (1)\n",
      "INFO - 09:29:27: worker thread finished; awaiting finish of 2 more threads\n",
      "INFO - 09:29:27: worker thread finished; awaiting finish of 1 more threads\n",
      "INFO - 09:29:27: worker thread finished; awaiting finish of 0 more threads\n",
      "INFO - 09:29:27: EPOCH - 21 : training on 0 raw words (0 effective words) took 0.0s, 0 effective words/s\n",
      "WARNING - 09:29:27: EPOCH - 21 : supplied example count (0) did not equal expected count (1)\n",
      "INFO - 09:29:27: worker thread finished; awaiting finish of 2 more threads\n",
      "INFO - 09:29:27: worker thread finished; awaiting finish of 1 more threads\n",
      "INFO - 09:29:27: worker thread finished; awaiting finish of 0 more threads\n",
      "INFO - 09:29:27: EPOCH - 22 : training on 0 raw words (0 effective words) took 0.0s, 0 effective words/s\n",
      "WARNING - 09:29:27: EPOCH - 22 : supplied example count (0) did not equal expected count (1)\n",
      "INFO - 09:29:27: worker thread finished; awaiting finish of 2 more threads\n",
      "INFO - 09:29:27: worker thread finished; awaiting finish of 1 more threads\n",
      "INFO - 09:29:27: worker thread finished; awaiting finish of 0 more threads\n",
      "INFO - 09:29:27: EPOCH - 23 : training on 0 raw words (0 effective words) took 0.0s, 0 effective words/s\n",
      "WARNING - 09:29:27: EPOCH - 23 : supplied example count (0) did not equal expected count (1)\n",
      "INFO - 09:29:27: worker thread finished; awaiting finish of 2 more threads\n",
      "INFO - 09:29:27: worker thread finished; awaiting finish of 1 more threads\n",
      "INFO - 09:29:27: worker thread finished; awaiting finish of 0 more threads\n",
      "INFO - 09:29:27: EPOCH - 24 : training on 0 raw words (0 effective words) took 0.0s, 0 effective words/s\n",
      "WARNING - 09:29:27: EPOCH - 24 : supplied example count (0) did not equal expected count (1)\n",
      "INFO - 09:29:27: worker thread finished; awaiting finish of 2 more threads\n",
      "INFO - 09:29:27: worker thread finished; awaiting finish of 1 more threads\n",
      "INFO - 09:29:27: worker thread finished; awaiting finish of 0 more threads\n",
      "INFO - 09:29:27: EPOCH - 25 : training on 0 raw words (0 effective words) took 0.0s, 0 effective words/s\n",
      "WARNING - 09:29:27: EPOCH - 25 : supplied example count (0) did not equal expected count (1)\n",
      "INFO - 09:29:27: worker thread finished; awaiting finish of 2 more threads\n",
      "INFO - 09:29:27: worker thread finished; awaiting finish of 1 more threads\n",
      "INFO - 09:29:27: worker thread finished; awaiting finish of 0 more threads\n",
      "INFO - 09:29:27: EPOCH - 26 : training on 0 raw words (0 effective words) took 0.0s, 0 effective words/s\n",
      "WARNING - 09:29:27: EPOCH - 26 : supplied example count (0) did not equal expected count (1)\n",
      "INFO - 09:29:27: worker thread finished; awaiting finish of 2 more threads\n",
      "INFO - 09:29:27: worker thread finished; awaiting finish of 1 more threads\n",
      "INFO - 09:29:27: worker thread finished; awaiting finish of 0 more threads\n",
      "INFO - 09:29:27: EPOCH - 27 : training on 0 raw words (0 effective words) took 0.0s, 0 effective words/s\n",
      "WARNING - 09:29:27: EPOCH - 27 : supplied example count (0) did not equal expected count (1)\n",
      "INFO - 09:29:27: worker thread finished; awaiting finish of 2 more threads\n",
      "INFO - 09:29:27: worker thread finished; awaiting finish of 1 more threads\n",
      "INFO - 09:29:27: worker thread finished; awaiting finish of 0 more threads\n",
      "INFO - 09:29:27: EPOCH - 28 : training on 0 raw words (0 effective words) took 0.0s, 0 effective words/s\n",
      "WARNING - 09:29:27: EPOCH - 28 : supplied example count (0) did not equal expected count (1)\n",
      "INFO - 09:29:27: worker thread finished; awaiting finish of 2 more threads\n",
      "INFO - 09:29:27: worker thread finished; awaiting finish of 1 more threads\n",
      "INFO - 09:29:27: worker thread finished; awaiting finish of 0 more threads\n",
      "INFO - 09:29:27: EPOCH - 29 : training on 0 raw words (0 effective words) took 0.0s, 0 effective words/s\n",
      "WARNING - 09:29:27: EPOCH - 29 : supplied example count (0) did not equal expected count (1)\n",
      "INFO - 09:29:27: worker thread finished; awaiting finish of 2 more threads\n",
      "INFO - 09:29:27: worker thread finished; awaiting finish of 1 more threads\n",
      "INFO - 09:29:27: worker thread finished; awaiting finish of 0 more threads\n",
      "INFO - 09:29:27: EPOCH - 30 : training on 0 raw words (0 effective words) took 0.0s, 0 effective words/s\n",
      "WARNING - 09:29:27: EPOCH - 30 : supplied example count (0) did not equal expected count (1)\n",
      "INFO - 09:29:27: training on a 0 raw words (0 effective words) took 0.4s, 0 effective words/s\n",
      "WARNING - 09:29:27: under 10 jobs per worker: consider setting a smaller `batch_words' for smoother alpha decay\n"
     ]
    },
    {
     "data": {
      "text/plain": [
       "(0, 0)"
      ]
     },
     "execution_count": 55,
     "metadata": {},
     "output_type": "execute_result"
    }
   ],
   "source": [
    "w2v_model.train(list_words[4:], total_examples=w2v_model.corpus_count, epochs=30, report_delay=1)"
   ]
  },
  {
   "cell_type": "code",
   "execution_count": 56,
   "metadata": {},
   "outputs": [
    {
     "data": {
      "text/plain": [
       "{'deeds': <gensim.models.keyedvectors.Vocab at 0x20f25e2a310>,\n",
       " 'reason': <gensim.models.keyedvectors.Vocab at 0x20f25e2ae20>,\n",
       " 'earthquake': <gensim.models.keyedvectors.Vocab at 0x20f25e2a130>,\n",
       " 'cause': <gensim.models.keyedvectors.Vocab at 0x20f25e2ac40>,\n",
       " 'may': <gensim.models.keyedvectors.Vocab at 0x20f26003550>,\n",
       " 'allah': <gensim.models.keyedvectors.Vocab at 0x20f260033a0>,\n",
       " 'forgive': <gensim.models.keyedvectors.Vocab at 0x20f26003310>,\n",
       " 'us': <gensim.models.keyedvectors.Vocab at 0x20f26003430>,\n",
       " 'forest': <gensim.models.keyedvectors.Vocab at 0x20f25b49f70>,\n",
       " 'fire': <gensim.models.keyedvectors.Vocab at 0x20f25b49a90>,\n",
       " 'near': <gensim.models.keyedvectors.Vocab at 0x20f25b49940>,\n",
       " 'la': <gensim.models.keyedvectors.Vocab at 0x20f25b49b20>,\n",
       " 'ronge': <gensim.models.keyedvectors.Vocab at 0x20f25b498e0>,\n",
       " 'sask': <gensim.models.keyedvectors.Vocab at 0x20f25b49f40>,\n",
       " 'canada': <gensim.models.keyedvectors.Vocab at 0x20f25dd9df0>,\n",
       " 'flemming': <gensim.models.keyedvectors.Vocab at 0x20f256a6c40>,\n",
       " 'putt': <gensim.models.keyedvectors.Vocab at 0x20f256a6f10>,\n",
       " 'sell': <gensim.models.keyedvectors.Vocab at 0x20f256a6bb0>,\n",
       " 'dummy': <gensim.models.keyedvectors.Vocab at 0x20f256a6e80>,\n",
       " 'dataset': <gensim.models.keyedvectors.Vocab at 0x20f256a66a0>,\n",
       " 'play': <gensim.models.keyedvectors.Vocab at 0x20f256a6130>,\n",
       " 'nlp': <gensim.models.keyedvectors.Vocab at 0x20f256a6ca0>,\n",
       " 'im': <gensim.models.keyedvectors.Vocab at 0x20f2537daf0>,\n",
       " 'meet': <gensim.models.keyedvectors.Vocab at 0x20f25fe66d0>}"
      ]
     },
     "execution_count": 56,
     "metadata": {},
     "output_type": "execute_result"
    }
   ],
   "source": [
    "w2v_model.wv.vocab"
   ]
  },
  {
   "cell_type": "markdown",
   "metadata": {},
   "source": [
    "## Visualizing"
   ]
  },
  {
   "cell_type": "code",
   "execution_count": 44,
   "metadata": {},
   "outputs": [],
   "source": [
    "## We will be using PCA to make it lower dimension as the dimensions/vectors are of size 32 that a human can't interpret \n",
    "## So a 2-D diagram will be created instead of 32-D"
   ]
  },
  {
   "cell_type": "code",
   "execution_count": 42,
   "metadata": {},
   "outputs": [],
   "source": [
    "from sklearn.decomposition import PCA\n",
    "from matplotlib import pyplot"
   ]
  },
  {
   "cell_type": "code",
   "execution_count": 46,
   "metadata": {},
   "outputs": [],
   "source": [
    "X = model[model.wv.vocab]\n",
    "pca = PCA(n_components=2)\n",
    "result = pca.fit_transform(X)"
   ]
  },
  {
   "cell_type": "code",
   "execution_count": 47,
   "metadata": {},
   "outputs": [
    {
     "data": {
      "text/plain": [
       "array([[-1.27096213e-02, -1.45203080e-02,  1.03893140e-02,\n",
       "        -1.03050740e-02,  1.30353244e-02, -1.29489647e-02,\n",
       "         1.95356016e-03,  4.57123015e-03, -4.42541158e-03,\n",
       "        -1.40878158e-02,  9.90195200e-03, -2.26911600e-03,\n",
       "         1.50800189e-02, -1.33944172e-02,  8.90132599e-03,\n",
       "         1.18251955e-02, -7.88727589e-03,  1.29776411e-02,\n",
       "        -3.79221351e-03,  1.09878434e-02, -4.72463388e-03,\n",
       "         7.87090510e-03, -1.46176131e-03, -1.50220748e-02,\n",
       "        -9.41028167e-03, -1.51115591e-02, -6.19573565e-03,\n",
       "        -5.17563545e-04, -6.78287446e-03, -4.56220470e-03,\n",
       "        -1.97955826e-03, -2.84957979e-03],\n",
       "       [-9.14749317e-03,  1.43449754e-02, -5.18519292e-03,\n",
       "         1.03125572e-02, -8.70836884e-05,  5.00265416e-03,\n",
       "        -1.07184341e-02, -9.61073954e-03, -8.80606659e-03,\n",
       "        -7.30512477e-03,  3.76327452e-03, -3.80885496e-04,\n",
       "        -2.23421748e-03,  3.02738114e-03,  1.26110716e-02,\n",
       "        -6.98383339e-03,  1.74542563e-03,  3.40381195e-03,\n",
       "        -1.07885301e-02, -1.39367245e-02, -1.07581830e-02,\n",
       "        -1.40591841e-02, -1.02933832e-02,  1.50789451e-02,\n",
       "        -1.37763843e-02, -8.04364309e-03,  5.34986192e-03,\n",
       "         1.07845105e-02,  1.02327755e-02, -1.50984218e-02,\n",
       "        -1.17778545e-02, -1.41810663e-02],\n",
       "       [ 5.31197572e-03,  5.60992910e-03, -1.53754547e-03,\n",
       "        -9.63534974e-03, -3.69722163e-03,  4.07407759e-03,\n",
       "         1.27265314e-02, -1.26016606e-02,  3.60285667e-05,\n",
       "        -1.54112456e-02,  1.36511195e-02, -8.79176985e-03,\n",
       "         6.88094506e-03, -1.05471127e-02,  4.25998494e-03,\n",
       "         5.00337966e-03,  1.25492725e-03, -8.54372140e-03,\n",
       "        -4.84031299e-03,  1.14854285e-02,  1.08906543e-02,\n",
       "        -6.10839343e-03,  1.28828213e-02,  8.14270880e-03,\n",
       "        -6.21333951e-04,  1.30769685e-02, -6.55609043e-03,\n",
       "         5.47078764e-03, -1.06588025e-02,  1.46703757e-02,\n",
       "        -4.66410536e-03, -5.46782138e-03],\n",
       "       [-1.09077496e-02, -1.40592111e-02, -6.99292868e-03,\n",
       "        -1.81887846e-03,  1.31907384e-03,  1.46938488e-03,\n",
       "        -1.75334117e-03, -3.15522848e-05,  1.16764549e-02,\n",
       "        -1.70645141e-03,  2.27892306e-03, -9.10805305e-04,\n",
       "         4.93883574e-03,  1.29536632e-02,  1.44552048e-02,\n",
       "        -1.20207202e-02,  2.31531821e-03,  6.36924291e-03,\n",
       "        -1.22056454e-02,  2.27558892e-03,  8.72034859e-03,\n",
       "         3.64819379e-03, -1.17922341e-02,  1.33989369e-02,\n",
       "         3.04067368e-03,  1.42106516e-02,  8.58490169e-03,\n",
       "         8.18968751e-03, -7.78067298e-03, -1.96573883e-03,\n",
       "        -1.20302606e-02,  8.47549550e-03],\n",
       "       [ 4.13200993e-04,  1.42434984e-02,  7.03028578e-04,\n",
       "        -4.27014939e-03, -4.71788924e-03,  5.86512964e-03,\n",
       "        -1.05316164e-02, -9.67030134e-03,  8.41511600e-03,\n",
       "         1.51196104e-02, -4.57736524e-03, -4.46789013e-03,\n",
       "        -8.54753610e-03,  1.33019928e-02, -5.82137052e-03,\n",
       "         1.63421209e-03, -1.30279521e-02,  7.49144610e-03,\n",
       "         3.12830834e-03,  6.35336479e-03, -1.99119537e-03,\n",
       "         1.29868640e-02, -1.54492781e-02, -4.51623136e-03,\n",
       "        -1.49977684e-03,  1.25024170e-02, -5.54278074e-03,\n",
       "         1.46067310e-02, -4.31028986e-03,  2.26428034e-03,\n",
       "        -4.40442469e-03,  1.20026870e-02],\n",
       "       [ 1.30260410e-02, -9.07905214e-03, -3.39347124e-03,\n",
       "        -8.99890251e-03, -9.59640928e-03, -1.55274933e-02,\n",
       "        -4.96670138e-03,  1.44245299e-02, -1.30352322e-02,\n",
       "         1.43678766e-02,  1.02100931e-02, -1.11014806e-02,\n",
       "        -2.72181787e-04, -1.28996596e-02, -1.34831704e-02,\n",
       "        -2.38020369e-03, -9.94503684e-03, -6.49033114e-03,\n",
       "         9.87889434e-05, -6.72226865e-03,  3.52036697e-03,\n",
       "        -7.07150111e-03,  7.86311086e-03, -5.10851294e-03,\n",
       "         2.03570980e-03, -9.35577694e-03,  1.02488827e-02,\n",
       "         1.06481845e-02,  8.47266708e-03,  1.38258114e-02,\n",
       "         8.64712056e-03, -1.52239148e-02],\n",
       "       [-8.11376981e-03, -1.07009141e-02,  8.68492108e-03,\n",
       "         1.28100496e-02, -4.73797508e-03, -5.16163185e-04,\n",
       "        -1.04206828e-02,  4.88957018e-03, -1.43306898e-02,\n",
       "         1.07560195e-02, -1.06480550e-02,  3.17620579e-03,\n",
       "        -1.08131708e-05,  1.17895296e-02,  7.13893073e-03,\n",
       "         1.05536142e-02, -1.34659023e-03, -9.30170994e-03,\n",
       "         1.55710680e-02,  6.20801654e-03, -1.02490680e-02,\n",
       "        -3.43835563e-03, -7.92942708e-04,  1.10059027e-02,\n",
       "        -1.17693059e-02, -8.31133500e-03, -2.09847069e-03,\n",
       "        -1.38046993e-02,  1.97090046e-03,  1.06180622e-03,\n",
       "        -1.64662080e-03, -1.49554508e-02],\n",
       "       [-1.32588260e-02,  7.62518728e-03,  9.22940858e-03,\n",
       "        -7.10358517e-03, -1.15411952e-02, -2.08756374e-03,\n",
       "         8.18465091e-03, -9.75155737e-03, -5.13004186e-03,\n",
       "        -1.44897820e-03,  4.73885145e-03, -5.64129266e-04,\n",
       "        -3.11866659e-03, -1.29797999e-02,  4.85208817e-03,\n",
       "         1.31441295e-04, -1.06511908e-02,  4.85718902e-03,\n",
       "         1.31618092e-02,  8.59708805e-03,  1.23542156e-02,\n",
       "         9.50211007e-03,  8.18200037e-03,  2.59307236e-03,\n",
       "        -7.68585131e-03,  1.26375267e-02,  1.46242068e-03,\n",
       "        -5.85137121e-03, -1.15790041e-02, -2.26347824e-03,\n",
       "         1.18338680e-02,  9.52759199e-03],\n",
       "       [ 7.23745488e-03, -1.25058070e-02, -1.17340833e-02,\n",
       "        -1.55567552e-03,  1.26611805e-02, -5.69819007e-03,\n",
       "         3.89337260e-03,  1.21200467e-02,  1.27789676e-02,\n",
       "        -1.71163096e-03,  5.06754220e-03, -1.51459239e-02,\n",
       "        -1.45973004e-02,  6.56649296e-04,  8.50868691e-03,\n",
       "        -8.95846914e-03,  4.54480015e-03,  1.45427603e-02,\n",
       "        -6.44359831e-03,  2.77880020e-03, -4.89270268e-03,\n",
       "         4.67772828e-03,  1.26388008e-02, -9.12238471e-03,\n",
       "         6.32913318e-03,  1.92080042e-03, -1.37547506e-02,\n",
       "         9.27202497e-03, -1.23368222e-02,  3.06230201e-03,\n",
       "        -1.36924675e-02,  1.31134922e-02],\n",
       "       [-1.01442859e-02,  1.42608434e-02, -1.30641004e-02,\n",
       "         1.34066481e-03,  7.96149857e-03,  6.38974272e-03,\n",
       "         9.42088943e-03, -7.60231074e-03,  3.08327633e-03,\n",
       "        -4.46663937e-03,  1.20995886e-04, -1.45041151e-03,\n",
       "        -1.45032406e-02,  1.54474629e-02,  5.69292437e-03,\n",
       "        -4.80173295e-03, -9.35046375e-03,  1.12586617e-02,\n",
       "         1.17571419e-02, -1.37992715e-02, -5.46640484e-03,\n",
       "         6.62013283e-03, -1.55722108e-02, -4.26295167e-03,\n",
       "         7.80170085e-03,  4.81495680e-03,  3.92680801e-03,\n",
       "         7.67955650e-03,  1.12960190e-02, -4.04518796e-03,\n",
       "         9.76615027e-03,  2.31884047e-03],\n",
       "       [-1.87792827e-03,  1.29539231e-02,  3.58152809e-03,\n",
       "        -1.35325203e-02,  7.30133522e-03, -9.42298304e-03,\n",
       "        -1.48125552e-02, -5.25941839e-03,  2.60067405e-03,\n",
       "        -6.23987697e-04, -8.37111566e-03, -1.20585496e-02,\n",
       "        -7.59798335e-03, -8.50542041e-04, -1.21922493e-02,\n",
       "         1.55209489e-02,  1.51865957e-02,  1.19020175e-02,\n",
       "        -3.38338618e-03, -1.05170831e-02, -8.98433942e-03,\n",
       "        -1.45783126e-02,  9.48485360e-03, -3.51572898e-03,\n",
       "        -7.09515251e-03,  1.10131208e-04, -6.62288163e-03,\n",
       "        -7.19456887e-03, -1.07008191e-02, -1.36138331e-02,\n",
       "         1.25404960e-02, -1.12755513e-02],\n",
       "       [-6.96194125e-03,  8.62947106e-03, -1.22437458e-02,\n",
       "        -9.00391303e-03, -1.05715608e-02, -1.48005486e-02,\n",
       "         2.41297693e-03,  9.47001018e-03,  1.42964311e-02,\n",
       "         3.85607197e-03,  1.14408461e-02, -1.00566391e-02,\n",
       "        -4.84620035e-03, -1.29571427e-02, -7.25949090e-03,\n",
       "         2.85226922e-03, -8.63306876e-03,  1.40384119e-02,\n",
       "        -6.29492244e-03, -1.20460344e-02,  1.45017803e-02,\n",
       "         2.56526261e-03,  1.01238498e-02,  3.61223775e-03,\n",
       "        -1.42901344e-02, -5.59404865e-03,  8.00776482e-03,\n",
       "         8.97957943e-04, -1.01582631e-02, -6.17370289e-03,\n",
       "         1.31947640e-02,  4.57016705e-03],\n",
       "       [ 3.08076781e-03, -5.86323068e-03,  1.20587610e-02,\n",
       "        -9.31718014e-03, -1.14871459e-02, -1.50106298e-02,\n",
       "        -1.17429588e-02, -5.33906510e-03, -9.07945633e-03,\n",
       "         1.88000733e-03,  1.27286101e-02,  1.39675392e-02,\n",
       "        -9.59111191e-03, -2.34501739e-03, -1.00657688e-02,\n",
       "         1.06238527e-02, -1.27328038e-02,  1.18480446e-02,\n",
       "         1.06774978e-02,  9.29373840e-04,  1.25274723e-02,\n",
       "        -6.44830475e-03,  3.83426202e-03,  9.81368218e-03,\n",
       "         1.31686768e-02,  1.43850949e-02, -1.02796988e-03,\n",
       "         8.58312380e-03, -1.03858672e-02,  1.32665539e-03,\n",
       "         5.00751380e-03, -2.04847078e-03],\n",
       "       [ 1.21263033e-02, -2.17957073e-03, -1.18419928e-02,\n",
       "        -1.54253505e-02,  3.57328565e-03, -1.01771997e-02,\n",
       "         1.08633179e-03, -1.28538199e-02, -1.12303887e-02,\n",
       "        -6.94544241e-03,  5.68696810e-03, -4.83784778e-03,\n",
       "        -4.60073585e-03,  1.48372306e-02,  5.07745286e-03,\n",
       "         9.33808275e-03, -1.67818693e-03, -3.86334187e-03,\n",
       "         1.46704288e-02,  1.15596969e-02,  8.93893652e-03,\n",
       "         6.51571574e-03, -1.02098882e-02, -6.53396361e-03,\n",
       "        -3.04645812e-03,  7.06908852e-03, -1.07897969e-03,\n",
       "         2.94444826e-03, -6.83707511e-03,  9.34902020e-03,\n",
       "        -1.38716530e-02, -1.08157089e-02],\n",
       "       [-6.38172962e-03, -1.34129170e-02,  4.97878343e-03,\n",
       "        -7.56837428e-03, -1.33046424e-02, -1.19093349e-02,\n",
       "         4.47822688e-03, -1.30995661e-02, -1.38799855e-02,\n",
       "        -1.38269952e-02, -5.21558104e-03, -2.35309661e-03,\n",
       "        -3.50158499e-03, -6.79577189e-03, -4.37044771e-03,\n",
       "         1.50849391e-02, -4.02188022e-03, -8.62930901e-03,\n",
       "        -9.54368804e-03,  9.16660484e-03, -2.77430587e-03,\n",
       "        -5.54193137e-03, -5.89758717e-03,  7.15684087e-04,\n",
       "        -3.69929755e-03, -1.46133371e-03, -7.19878310e-03,\n",
       "        -1.54927489e-03, -1.54726915e-02, -7.13984948e-03,\n",
       "        -1.51526062e-02, -3.48712923e-03],\n",
       "       [ 5.02657983e-03,  4.56321239e-03, -2.48031109e-04,\n",
       "        -4.42202529e-03, -1.91924733e-03,  4.67920955e-03,\n",
       "        -1.00094164e-02,  7.02921115e-03, -7.68869242e-04,\n",
       "        -1.44435903e-02, -6.04915153e-03,  3.95355979e-03,\n",
       "        -7.38155702e-03,  3.70461773e-03, -3.18494719e-03,\n",
       "        -1.39362495e-02, -1.46755213e-02,  3.37133370e-03,\n",
       "        -5.80477063e-03,  8.28131568e-03, -6.55164942e-03,\n",
       "        -1.27797015e-03, -7.16621149e-03, -7.12071033e-03,\n",
       "         1.85199920e-03, -2.11974024e-03, -8.93878005e-03,\n",
       "         1.49704935e-02,  8.04563332e-03,  4.49831132e-03,\n",
       "        -7.74293439e-03,  2.85318984e-05],\n",
       "       [ 6.06877031e-03, -1.40622845e-02,  9.15534701e-03,\n",
       "        -1.27378693e-02, -1.02082193e-02, -2.80647050e-03,\n",
       "         1.56015363e-02, -1.06632113e-02,  2.94513186e-03,\n",
       "         6.30597491e-03,  8.21781624e-03,  6.47637015e-03,\n",
       "        -1.31433886e-02,  5.77073824e-03, -1.45896878e-02,\n",
       "        -3.02758534e-03, -3.99381528e-03,  6.06467063e-03,\n",
       "         1.48347244e-02,  3.27246555e-04,  1.38458970e-03,\n",
       "         2.85982643e-03, -2.00765207e-03,  9.30089209e-06,\n",
       "        -1.53820226e-02, -2.00706709e-04, -3.49042402e-03,\n",
       "        -6.98050670e-03, -1.52375475e-02, -7.72277825e-03,\n",
       "        -3.72705545e-04,  1.50537109e-02],\n",
       "       [ 9.74102132e-03, -3.74547672e-04,  3.01531795e-03,\n",
       "        -7.74237933e-03, -1.24040172e-02,  3.79362656e-03,\n",
       "        -8.24861322e-03,  1.77410213e-04,  1.54114631e-03,\n",
       "        -1.52222812e-02,  8.94939154e-03,  1.24711432e-02,\n",
       "         8.39397218e-03, -3.15138069e-03,  1.51152126e-02,\n",
       "        -3.33283818e-03, -5.33434143e-03, -3.25776939e-03,\n",
       "        -4.11116227e-04,  1.02271158e-02, -2.01034197e-03,\n",
       "         1.26495035e-02, -8.52052774e-03, -1.30234063e-02,\n",
       "        -1.30851436e-02,  4.73109726e-03,  1.54556045e-02,\n",
       "         1.24245612e-02, -1.06785325e-02, -2.53440317e-04,\n",
       "        -8.49704084e-04,  4.70927497e-03],\n",
       "       [ 1.79166929e-03, -1.36760231e-02,  3.99964862e-03,\n",
       "         1.47983003e-02, -7.49324914e-03, -1.29815545e-02,\n",
       "         1.53051019e-02,  5.97258611e-03, -1.31451478e-02,\n",
       "        -2.36004897e-04, -3.64451995e-03,  1.13952759e-04,\n",
       "         3.86818126e-03, -1.01843365e-02, -1.40814343e-02,\n",
       "        -1.40002547e-02, -3.17916740e-03, -3.81437107e-03,\n",
       "        -7.04527833e-03,  1.03093851e-02,  6.61800848e-03,\n",
       "        -1.90653349e-03,  1.24235265e-02,  6.39345543e-03,\n",
       "         3.36209335e-03,  3.77325434e-03,  9.42188594e-03,\n",
       "        -1.35329561e-02, -5.48237003e-03,  1.55884968e-02,\n",
       "         9.34203062e-03, -1.01682870e-02],\n",
       "       [-8.67449678e-03,  1.28341988e-02, -5.74519718e-03,\n",
       "         1.38730910e-02,  5.45712886e-03,  4.66857664e-03,\n",
       "        -1.06424447e-02, -9.88886692e-03, -1.31907256e-03,\n",
       "         8.73992685e-03, -3.62867513e-03, -5.20816585e-03,\n",
       "         8.46951269e-03, -1.40567124e-02,  1.41867967e-02,\n",
       "        -3.71361105e-03, -1.86287934e-06,  2.38984614e-03,\n",
       "         6.84594084e-03, -2.36471859e-03, -1.41529774e-03,\n",
       "        -3.40914214e-03,  1.11664254e-02,  7.04773189e-03,\n",
       "         1.69364153e-04, -1.23807667e-02, -7.70426472e-04,\n",
       "         1.29155267e-03, -7.10068969e-03, -7.02002551e-03,\n",
       "        -4.26293304e-03,  2.93501932e-03],\n",
       "       [ 2.40422995e-03, -7.00820284e-03, -1.12963598e-02,\n",
       "         1.42414626e-02, -1.36550125e-02, -1.37007853e-03,\n",
       "         1.00833932e-02, -3.13717616e-03,  1.38095431e-02,\n",
       "         6.13318663e-03,  4.12717694e-03, -1.37829650e-02,\n",
       "         4.15239250e-03, -5.45043964e-03,  1.49255032e-02,\n",
       "         1.27186498e-03, -1.11078629e-02,  1.06416806e-03,\n",
       "        -1.51040098e-02, -9.09127016e-03,  1.23666320e-02,\n",
       "        -3.08645028e-03, -7.54197314e-03, -9.75567615e-04,\n",
       "         2.56660022e-03,  1.08506833e-03,  4.82270354e-03,\n",
       "        -8.68801586e-03,  2.44912854e-03, -3.73132084e-03,\n",
       "         1.36665199e-02, -3.08008119e-03],\n",
       "       [-1.21058815e-03, -9.15658008e-03, -5.53221116e-03,\n",
       "         1.10406037e-02,  6.67506037e-03,  9.25114192e-03,\n",
       "         4.81809024e-03, -1.30243981e-02,  1.21731814e-02,\n",
       "         1.46620087e-02, -7.74812233e-03,  4.03045071e-03,\n",
       "         1.23059219e-02,  6.64319331e-03, -1.34909851e-03,\n",
       "        -1.53305689e-02, -8.17190204e-03, -5.49896760e-03,\n",
       "         3.64031154e-03, -3.56916618e-03, -1.02436738e-02,\n",
       "        -9.00135934e-03, -2.37982720e-03,  8.03196244e-03,\n",
       "        -1.23889530e-02, -9.02229361e-03,  7.96799641e-03,\n",
       "         1.51568158e-02, -1.31282536e-02,  9.97158233e-03,\n",
       "         9.19076893e-03, -8.64559028e-04],\n",
       "       [ 1.21295694e-02, -1.15697281e-02, -4.51337639e-03,\n",
       "        -8.65168869e-03, -1.31810876e-02, -1.13744428e-02,\n",
       "         1.80133129e-03,  1.31853288e-02, -2.97942461e-04,\n",
       "        -5.21238071e-05,  1.28401201e-02,  3.84244428e-04,\n",
       "        -1.17798953e-03, -1.29787754e-02, -1.33102844e-02,\n",
       "         1.39818527e-02, -7.64226215e-03,  1.19973425e-04,\n",
       "        -2.87024351e-03,  5.28120855e-03, -1.47282546e-02,\n",
       "         7.54431821e-03,  1.37135778e-02, -9.64207388e-03,\n",
       "         1.51353953e-02, -1.82137778e-03, -7.61597510e-03,\n",
       "         9.24539845e-03, -1.51470699e-03, -5.94848301e-03,\n",
       "         1.36492578e-02,  1.55439163e-02],\n",
       "       [ 1.29074045e-02,  1.54533498e-02, -3.15657281e-03,\n",
       "         4.99610417e-03,  5.93637349e-03, -1.55018677e-03,\n",
       "        -1.46640288e-02, -1.27561914e-03,  1.50665864e-02,\n",
       "        -4.11784183e-03,  9.01662372e-03,  1.21021187e-02,\n",
       "         1.35524431e-02, -1.28090279e-02,  2.09954008e-03,\n",
       "         1.12404618e-02,  1.33065730e-02, -6.95553143e-03,\n",
       "         7.03321537e-03,  7.77762802e-03, -7.52523891e-04,\n",
       "        -1.26474481e-02, -4.78636287e-03, -3.28790699e-03,\n",
       "         1.31232431e-02,  1.26289399e-02, -1.24149658e-02,\n",
       "        -2.05372670e-03,  1.33653302e-02, -1.16061224e-02,\n",
       "         9.44039691e-03, -1.36335082e-02]], dtype=float32)"
      ]
     },
     "execution_count": 47,
     "metadata": {},
     "output_type": "execute_result"
    }
   ],
   "source": [
    "X"
   ]
  },
  {
   "cell_type": "code",
   "execution_count": 48,
   "metadata": {
    "collapsed": true
   },
   "outputs": [
    {
     "data": {
      "text/plain": [
       "['deeds',\n",
       " 'reason',\n",
       " 'earthquake',\n",
       " 'cause',\n",
       " 'may',\n",
       " 'allah',\n",
       " 'forgive',\n",
       " 'us',\n",
       " 'forest',\n",
       " 'fire',\n",
       " 'near',\n",
       " 'la',\n",
       " 'ronge',\n",
       " 'sask',\n",
       " 'canada',\n",
       " 'flemming',\n",
       " 'putt',\n",
       " 'sell',\n",
       " 'dummy',\n",
       " 'dataset',\n",
       " 'play',\n",
       " 'nlp',\n",
       " 'im',\n",
       " 'meet']"
      ]
     },
     "execution_count": 48,
     "metadata": {},
     "output_type": "execute_result"
    }
   ],
   "source": [
    "words = list(model.wv.vocab)\n",
    "words"
   ]
  },
  {
   "cell_type": "code",
   "execution_count": 49,
   "metadata": {},
   "outputs": [
    {
     "data": {
      "image/png": "[encoded data removed]",
      "text/plain": [
       "<Figure size 1728x864 with 1 Axes>"
      ]
     },
     "metadata": {
      "needs_background": "light"
     },
     "output_type": "display_data"
    }
   ],
   "source": [
    "pyplot.figure(figsize=(24,12))\n",
    "pyplot.scatter(result[:, 0], result[:, 1])\n",
    "words = list(model.wv.vocab)\n",
    "for i ,word in enumerate(words):\n",
    "    pyplot.annotate(word , xy = (result[i,0] , result[i,1]))\n",
    "pyplot.show()"
   ]
  },
  {
   "cell_type": "code",
   "execution_count": 50,
   "metadata": {},
   "outputs": [
    {
     "name": "stdout",
     "output_type": "stream",
     "text": [
      "0 deeds\n",
      "1 reason\n",
      "2 earthquake\n",
      "3 cause\n",
      "4 may\n",
      "5 allah\n",
      "6 forgive\n",
      "7 us\n",
      "8 forest\n",
      "9 fire\n",
      "10 near\n",
      "11 la\n",
      "12 ronge\n",
      "13 sask\n",
      "14 canada\n",
      "15 flemming\n",
      "16 putt\n",
      "17 sell\n",
      "18 dummy\n",
      "19 dataset\n",
      "20 play\n",
      "21 nlp\n",
      "22 im\n",
      "23 meet\n"
     ]
    }
   ],
   "source": [
    "for i , word in enumerate(words):\n",
    "    print(i , word)"
   ]
  },
  {
   "cell_type": "code",
   "execution_count": 51,
   "metadata": {},
   "outputs": [
    {
     "data": {
      "text/plain": [
       "0.041935373"
      ]
     },
     "execution_count": 51,
     "metadata": {},
     "output_type": "execute_result"
    }
   ],
   "source": [
    "result[1,0]"
   ]
  },
  {
   "cell_type": "code",
   "execution_count": 52,
   "metadata": {},
   "outputs": [
    {
     "data": {
      "text/plain": [
       "array([-0.01392777,  0.04193537, -0.01161668,  0.02068563,  0.01747653,\n",
       "       -0.02513615,  0.01058559, -0.01349717, -0.00264244,  0.03073662,\n",
       "       -0.00033774, -0.01442902, -0.02243658, -0.0007773 , -0.01359646,\n",
       "        0.01167357, -0.01555089,  0.00246051, -0.02430964,  0.02029121,\n",
       "        0.00550617,  0.02257333, -0.03469124,  0.00902448], dtype=float32)"
      ]
     },
     "execution_count": 52,
     "metadata": {},
     "output_type": "execute_result"
    }
   ],
   "source": [
    "result[:,0]"
   ]
  },
  {
   "cell_type": "code",
   "execution_count": 47,
   "metadata": {},
   "outputs": [
    {
     "name": "stderr",
     "output_type": "stream",
     "text": [
      "INFO - 22:48:47: precomputing L2-norms of word weight vectors\n"
     ]
    },
    {
     "name": "stdout",
     "output_type": "stream",
     "text": [
      "[('sask', 0.34584879875183105), ('us', 0.34541216492652893), ('canada', 0.31283333897590637), ('dummy', 0.19923855364322662), ('sell', 0.16688162088394165), ('ronge', 0.16687613725662231), ('meet', 0.1219409704208374), ('forest', 0.08370810002088547), ('deeds', 0.06412611901760101), ('la', 0.060758210718631744)]\n"
     ]
    }
   ],
   "source": [
    "print(model.most_similar(positive=['earthquake']))"
   ]
  },
  {
   "cell_type": "markdown",
   "metadata": {},
   "source": [
    "# T-SNE visualization"
   ]
  },
  {
   "cell_type": "code",
   "execution_count": 63,
   "metadata": {},
   "outputs": [
    {
     "name": "stdout",
     "output_type": "stream",
     "text": [
      "['earthquake', 'fire']\n",
      "[('sask', 0.34584879875183105), ('us', 0.34541216492652893), ('canada', 0.31283333897590637), ('dummy', 0.19923855364322662), ('sell', 0.16688162088394165)]\n",
      "[('may', 0.3994463384151459), ('reason', 0.25372132658958435), ('flemming', 0.1871686428785324), ('cause', 0.12604491412639618), ('play', 0.10489675402641296)]\n",
      "5\n",
      "('may', 0.3994463384151459)\n"
     ]
    },
    {
     "data": {
      "text/plain": [
       "('may', 0.3994463384151459, 'fire')"
      ]
     },
     "execution_count": 63,
     "metadata": {},
     "output_type": "execute_result"
    }
   ],
   "source": [
    "\n",
    "input_word = ' earthquake, fire'\n",
    "user_input = [x.strip() for x in input_word.split(',')]\n",
    "print(user_input)\n",
    "\n",
    "result_word = []\n",
    "for words in user_input:\n",
    "    \n",
    "        sim_words = model.most_similar(words, topn = 5)\n",
    "        print(sim_words)\n",
    "print(len(sim_words))\n",
    "print(sim_words[0])\n",
    "similar_words_list = list(sim_words[0])\n",
    "similar_words_list.append(words)\n",
    "similar_words_list = tuple(similar_words_list)\n",
    "similar_words_list"
   ]
  },
  {
   "cell_type": "code",
   "execution_count": 78,
   "metadata": {},
   "outputs": [
    {
     "data": {
      "text/plain": [
       "[('sask', 0.34584879875183105, 'earthquake'),\n",
       " ('us', 0.34541216492652893, 'earthquake'),\n",
       " ('canada', 0.31283333897590637, 'earthquake'),\n",
       " ('dummy', 0.19923855364322662, 'earthquake'),\n",
       " ('sell', 0.16688162088394165, 'earthquake')]"
      ]
     },
     "execution_count": 78,
     "metadata": {},
     "output_type": "execute_result"
    }
   ],
   "source": [
    "def append_list(sim_words, words):\n",
    "    \"\"\" A list of tuples is given contaning the similar words and thier respective main word\"\"\"\n",
    "    list_of_words = []\n",
    "    \n",
    "    for i in range(len(sim_words)):\n",
    "        \n",
    "        sim_words_list = list(sim_words[i])\n",
    "        sim_words_list.append(words)\n",
    "        sim_words_tuple = tuple(sim_words_list)\n",
    "        list_of_words.append(sim_words_tuple)\n",
    "        \n",
    "    return list_of_words\n",
    "\n",
    "input_word = ' earthquake'\n",
    "user_input = [x.strip() for x in input_word.split(',')]\n",
    "result_word = []\n",
    "    \n",
    "for words in user_input:\n",
    "    \n",
    "        sim_words = model.most_similar(words, topn = 5)\n",
    "        sim_words = append_list(sim_words, words)\n",
    "            \n",
    "        result_word.extend(sim_words)\n",
    "result_word"
   ]
  },
  {
   "cell_type": "code",
   "execution_count": 80,
   "metadata": {},
   "outputs": [
    {
     "data": {
      "text/plain": [
       "['sask', 'us', 'canada', 'dummy', 'sell', 'earthquake']"
      ]
     },
     "execution_count": 80,
     "metadata": {},
     "output_type": "execute_result"
    }
   ],
   "source": [
    "similar_word = [word[0] for word in result_word]\n",
    "similarity = [word[1] for word in result_word]\n",
    "similar_word.extend(user_input)\n",
    "similar_word"
   ]
  },
  {
   "cell_type": "code",
   "execution_count": 81,
   "metadata": {},
   "outputs": [
    {
     "name": "stdout",
     "output_type": "stream",
     "text": [
      "{'earthquake': 1}\n"
     ]
    },
    {
     "data": {
      "text/plain": [
       "[1, 1, 1, 1, 1]"
      ]
     },
     "execution_count": 81,
     "metadata": {},
     "output_type": "execute_result"
    }
   ],
   "source": [
    "labels = [word[2] for word in result_word]\n",
    "label_dict = dict([(y,x+1) for x,y in enumerate(set(labels))])\n",
    "print(label_dict)\n",
    "color_map = [label_dict[x] for x in labels]\n",
    "color_map"
   ]
  },
  {
   "cell_type": "code",
   "execution_count": 85,
   "metadata": {},
   "outputs": [
    {
     "data": {
      "text/plain": [
       "dict_keys(['deeds', 'reason', 'earthquake', 'cause', 'may', 'allah', 'forgive', 'us', 'forest', 'fire', 'near', 'la', 'ronge', 'sask', 'canada', 'flemming', 'putt', 'sell', 'dummy', 'dataset', 'play', 'nlp', 'im', 'meet'])"
      ]
     },
     "execution_count": 85,
     "metadata": {},
     "output_type": "execute_result"
    }
   ],
   "source": [
    "model.wv.vocab.keys()"
   ]
  },
  {
   "cell_type": "markdown",
   "metadata": {},
   "source": [
    "# Specific T-SNE"
   ]
  },
  {
   "cell_type": "code",
   "execution_count": 46,
   "metadata": {},
   "outputs": [
    {
     "name": "stdout",
     "output_type": "stream",
     "text": [
      "(0, 300)\n",
      "(1, 300)\n",
      "[('sell', 0.09566894173622131), ('us', 0.07280372083187103), ('meet', 0.05365343019366264)]\n",
      "(4, 300)\n",
      "(8, 300)\n"
     ]
    },
    {
     "data": {
      "application/javascript": [
       "\n",
       "        if (window._pyforest_update_imports_cell) { window._pyforest_update_imports_cell('import re\\nfrom sklearn.manifold import TSNE'); }\n",
       "    "
      ],
      "text/plain": [
       "<IPython.core.display.Javascript object>"
      ]
     },
     "metadata": {},
     "output_type": "display_data"
    },
    {
     "data": {
      "text/plain": [
       "array([[-108.95825  , -208.94148  ],\n",
       "       [ 186.48706  ,  -98.10325  ],\n",
       "       [  19.245832 ,  160.85878  ],\n",
       "       [ 170.65883  ,   75.445076 ],\n",
       "       [  -1.3864107,  -35.04374  ],\n",
       "       [-145.8001   ,  106.94461  ],\n",
       "       [  64.83454  , -221.82527  ],\n",
       "       [-196.90604  ,  -58.990913 ]], dtype=float32)"
      ]
     },
     "execution_count": 46,
     "metadata": {},
     "output_type": "execute_result"
    }
   ],
   "source": [
    "arrays = np.empty((0, 300), dtype='f')\n",
    "word_labels = ['earthquake']\n",
    "color_list  = ['red']\n",
    "print(arrays.shape)\n",
    "\n",
    "# Get vectors of the word and append it to the end f array\n",
    "arrays = np.append(arrays,    w2v_model.wv.__getitem__(['earthquake']), axis=0) \n",
    "print(arrays.shape)\n",
    "\n",
    "#gets list of most similar words\n",
    "close_words = w2v_model.wv.most_similar(['earthquake'] , topn=3)\n",
    "print(close_words)\n",
    "\n",
    "# adds the vector for each of the closest words to the array\n",
    "for wrd_score in close_words:\n",
    "    wrd_vector = w2v_model.wv.__getitem__([wrd_score[0]])\n",
    "    word_labels.append(wrd_score[0])\n",
    "    color_list.append('blue')\n",
    "    arrays = np.append(arrays, wrd_vector, axis=0)\n",
    "print(arrays.shape) \n",
    "\n",
    "list_names = ['may','reason','play','cause']\n",
    "# adds the vector for each of the words from list_names to the array\n",
    "for wrd in list_names:\n",
    "    wrd_vector = w2v_model.wv.__getitem__([wrd])\n",
    "    word_labels.append(wrd)\n",
    "    color_list.append('green')\n",
    "    arrays = np.append(arrays, wrd_vector, axis=0)\n",
    "print(arrays.shape)\n",
    "\n",
    "# Reduces the dimensionality from 300 to 50 dimensions with PCA\n",
    "reduce = PCA(n_components=8).fit_transform(arrays)\n",
    "# T-SNE coordinates\n",
    "Y = TSNE(n_components=2, random_state=0, perplexity=15).fit_transform(reduce)\n",
    "Y"
   ]
  },
  {
   "cell_type": "code",
   "execution_count": 47,
   "metadata": {},
   "outputs": [
    {
     "name": "stdout",
     "output_type": "stream",
     "text": [
      "(8, 2)\n",
      "(8, 4)\n"
     ]
    },
    {
     "data": {
      "text/html": [
       "<div>\n",
       "<style scoped>\n",
       "    .dataframe tbody tr th:only-of-type {\n",
       "        vertical-align: middle;\n",
       "    }\n",
       "\n",
       "    .dataframe tbody tr th {\n",
       "        vertical-align: top;\n",
       "    }\n",
       "\n",
       "    .dataframe thead th {\n",
       "        text-align: right;\n",
       "    }\n",
       "</style>\n",
       "<table border=\"1\" class=\"dataframe\">\n",
       "  <thead>\n",
       "    <tr style=\"text-align: right;\">\n",
       "      <th></th>\n",
       "      <th>x</th>\n",
       "      <th>y</th>\n",
       "      <th>words</th>\n",
       "      <th>color</th>\n",
       "    </tr>\n",
       "  </thead>\n",
       "  <tbody>\n",
       "    <tr>\n",
       "      <th>0</th>\n",
       "      <td>-108.958252</td>\n",
       "      <td>-208.941483</td>\n",
       "      <td>earthquake</td>\n",
       "      <td>red</td>\n",
       "    </tr>\n",
       "    <tr>\n",
       "      <th>1</th>\n",
       "      <td>186.487061</td>\n",
       "      <td>-98.103249</td>\n",
       "      <td>sell</td>\n",
       "      <td>blue</td>\n",
       "    </tr>\n",
       "    <tr>\n",
       "      <th>2</th>\n",
       "      <td>19.245832</td>\n",
       "      <td>160.858780</td>\n",
       "      <td>us</td>\n",
       "      <td>blue</td>\n",
       "    </tr>\n",
       "    <tr>\n",
       "      <th>3</th>\n",
       "      <td>170.658829</td>\n",
       "      <td>75.445076</td>\n",
       "      <td>meet</td>\n",
       "      <td>blue</td>\n",
       "    </tr>\n",
       "    <tr>\n",
       "      <th>4</th>\n",
       "      <td>-1.386411</td>\n",
       "      <td>-35.043739</td>\n",
       "      <td>may</td>\n",
       "      <td>green</td>\n",
       "    </tr>\n",
       "    <tr>\n",
       "      <th>5</th>\n",
       "      <td>-145.800095</td>\n",
       "      <td>106.944611</td>\n",
       "      <td>reason</td>\n",
       "      <td>green</td>\n",
       "    </tr>\n",
       "    <tr>\n",
       "      <th>6</th>\n",
       "      <td>64.834541</td>\n",
       "      <td>-221.825272</td>\n",
       "      <td>play</td>\n",
       "      <td>green</td>\n",
       "    </tr>\n",
       "    <tr>\n",
       "      <th>7</th>\n",
       "      <td>-196.906036</td>\n",
       "      <td>-58.990913</td>\n",
       "      <td>cause</td>\n",
       "      <td>green</td>\n",
       "    </tr>\n",
       "  </tbody>\n",
       "</table>\n",
       "</div>"
      ],
      "text/plain": [
       "            x           y       words  color\n",
       "0 -108.958252 -208.941483  earthquake    red\n",
       "1  186.487061  -98.103249        sell   blue\n",
       "2   19.245832  160.858780          us   blue\n",
       "3  170.658829   75.445076        meet   blue\n",
       "4   -1.386411  -35.043739         may  green\n",
       "5 -145.800095  106.944611      reason  green\n",
       "6   64.834541 -221.825272        play  green\n",
       "7 -196.906036  -58.990913       cause  green"
      ]
     },
     "execution_count": 47,
     "metadata": {},
     "output_type": "execute_result"
    }
   ],
   "source": [
    "# Sets everything up to plot\n",
    "print(Y.shape)\n",
    "df = pd.DataFrame({'x': [x for x in Y[:, 0]],\n",
    "                    'y': [y for y in Y[:, 1]],\n",
    "                    'words': word_labels,\n",
    "                    'color': color_list})\n",
    "print(df.shape)\n",
    "df #Now we'll plot all these co-ordinates"
   ]
  },
  {
   "cell_type": "code",
   "execution_count": 61,
   "metadata": {},
   "outputs": [
    {
     "data": {
      "application/javascript": [
       "\n",
       "        if (window._pyforest_update_imports_cell) { window._pyforest_update_imports_cell('import re\\nfrom sklearn.manifold import TSNE\\nimport matplotlib.pyplot as plt'); }\n",
       "    "
      ],
      "text/plain": [
       "<IPython.core.display.Javascript object>"
      ]
     },
     "metadata": {},
     "output_type": "display_data"
    },
    {
     "data": {
      "application/javascript": [
       "\n",
       "        if (window._pyforest_update_imports_cell) { window._pyforest_update_imports_cell('import re\\nfrom sklearn.manifold import TSNE\\nimport matplotlib.pyplot as plt'); }\n",
       "    "
      ],
      "text/plain": [
       "<IPython.core.display.Javascript object>"
      ]
     },
     "metadata": {},
     "output_type": "display_data"
    },
    {
     "data": {
      "application/javascript": [
       "\n",
       "        if (window._pyforest_update_imports_cell) { window._pyforest_update_imports_cell('import re\\nfrom sklearn.manifold import TSNE\\nimport matplotlib.pyplot as plt'); }\n",
       "    "
      ],
      "text/plain": [
       "<IPython.core.display.Javascript object>"
      ]
     },
     "metadata": {},
     "output_type": "display_data"
    },
    {
     "data": {
      "application/javascript": [
       "\n",
       "        if (window._pyforest_update_imports_cell) { window._pyforest_update_imports_cell('import re\\nfrom sklearn.manifold import TSNE\\nimport matplotlib.pyplot as plt'); }\n",
       "    "
      ],
      "text/plain": [
       "<IPython.core.display.Javascript object>"
      ]
     },
     "metadata": {},
     "output_type": "display_data"
    },
    {
     "data": {
      "text/plain": [
       "Text(0.5, 1.0, 't-SNE visualization for Earthquake')"
      ]
     },
     "execution_count": 61,
     "metadata": {},
     "output_type": "execute_result"
    },
    {
     "data": {
      "image/png": "[encoded data removed]",
      "text/plain": [
       "<Figure size 648x648 with 1 Axes>"
      ]
     },
     "metadata": {
      "needs_background": "light"
     },
     "output_type": "display_data"
    }
   ],
   "source": [
    "word = 'earthquake'\n",
    "import seaborn as sns\n",
    "fig, _ = plt.subplots()\n",
    "fig.set_size_inches(9, 9)\n",
    "p1 = sns.regplot(data=df,\n",
    "                     x=\"x\",\n",
    "                     y=\"y\",\n",
    "                     fit_reg=False,\n",
    "                     marker=\"o\",\n",
    "                     scatter_kws={'s': 40,\n",
    "                                  'facecolors': df['color']\n",
    "                                 }\n",
    "                    )\n",
    "\n",
    "# Adds annotations one by one with a loop\n",
    "for line in range(0, df.shape[0]):\n",
    "         p1.text(df[\"x\"][line],\n",
    "                 df['y'][line],\n",
    "                 '  ' + df[\"words\"][line].title(),\n",
    "                 horizontalalignment='left',\n",
    "                 verticalalignment='bottom', size='medium',\n",
    "                 color=df['color'][line],\n",
    "                 weight='normal'\n",
    "                ).set_size(15)\n",
    "            \n",
    "plt.xlim(Y[:, 0].min()-50, Y[:, 0].max()+50)\n",
    "plt.ylim(Y[:, 1].min()-50, Y[:, 1].max()+50)\n",
    "            \n",
    "plt.title('t-SNE visualization for {}'.format(word.title()))"
   ]
  },
  {
   "cell_type": "code",
   "execution_count": 67,
   "metadata": {},
   "outputs": [],
   "source": [
    "def tsnescatterplot(model, word, list_names):\n",
    "    \"\"\" Plot in seaborn the results from the t-SNE dimensionality reduction algorithm of the vectors of a query word,\n",
    "    its list of most similar words, and a list of words.\n",
    "    \"\"\"\n",
    "    arrays = np.empty((0, 300), dtype='f')\n",
    "    word_labels = [word]\n",
    "    color_list  = ['red']\n",
    "\n",
    "    # adds the vector of the query word\n",
    "    arrays = np.append(arrays, model.wv.__getitem__([word]), axis=0)\n",
    "    \n",
    "    # gets list of most similar words\n",
    "    close_words = model.wv.most_similar([word],topn=3)\n",
    "    \n",
    "    # adds the vector for each of the closest words to the array\n",
    "    for wrd_score in close_words:\n",
    "        wrd_vector = model.wv.__getitem__([wrd_score[0]])\n",
    "        word_labels.append(wrd_score[0])\n",
    "        color_list.append('blue')\n",
    "        arrays = np.append(arrays, wrd_vector, axis=0)\n",
    "    \n",
    "    # adds the vector for each of the words from list_names to the array\n",
    "    for wrd in list_names:\n",
    "        wrd_vector = model.wv.__getitem__([wrd])\n",
    "        word_labels.append(wrd)\n",
    "        color_list.append('green')\n",
    "        arrays = np.append(arrays, wrd_vector, axis=0)\n",
    "    \n",
    "    # Reduces the dimensionality from 300 to 50 dimensions with PCA\n",
    "    reduc = PCA(n_components=8).fit_transform(arrays)\n",
    "    \n",
    "    # Finds t-SNE coordinates for 2 dimensions\n",
    "    np.set_printoptions(suppress=True)\n",
    "    \n",
    "    Y = TSNE(n_components=2, random_state=0, perplexity=15).fit_transform(reduc)\n",
    "    \n",
    "    # Sets everything up to plot\n",
    "    df = pd.DataFrame({'x': [x for x in Y[:, 0]],\n",
    "                       'y': [y for y in Y[:, 1]],\n",
    "                       'words': word_labels,\n",
    "                       'color': color_list})\n",
    "    \n",
    "    fig, _ = plt.subplots()\n",
    "    fig.set_size_inches(9, 9)\n",
    "    \n",
    "    # Basic plot\n",
    "    p1 = sns.regplot(data=df,\n",
    "                     x=\"x\",\n",
    "                     y=\"y\",\n",
    "                     fit_reg=False,\n",
    "                     marker=\"o\",\n",
    "                     scatter_kws={'s': 40,\n",
    "                                  'facecolors': df['color']\n",
    "                                 }\n",
    "                    )\n",
    "    # Adds annotations one by one with a loop\n",
    "    for line in range(0, df.shape[0]):\n",
    "         p1.text(df[\"x\"][line],\n",
    "                 df['y'][line],\n",
    "                 '  ' + df[\"words\"][line].title(),\n",
    "                 horizontalalignment='left',\n",
    "                 verticalalignment='bottom', size='medium',\n",
    "                 color=df['color'][line],\n",
    "                 weight='normal'\n",
    "                ).set_size(15)\n",
    "\n",
    "    \n",
    "    plt.xlim(Y[:, 0].min()-50, Y[:, 0].max()+50)\n",
    "    plt.ylim(Y[:, 1].min()-50, Y[:, 1].max()+50)\n",
    "            \n",
    "    plt.title('t-SNE visualization for {}'.format(word.title()))\n",
    "    "
   ]
  },
  {
   "cell_type": "code",
   "execution_count": 68,
   "metadata": {},
   "outputs": [
    {
     "data": {
      "application/javascript": [
       "\n",
       "        if (window._pyforest_update_imports_cell) { window._pyforest_update_imports_cell('import re\\nfrom sklearn.manifold import TSNE\\nimport matplotlib.pyplot as plt'); }\n",
       "    "
      ],
      "text/plain": [
       "<IPython.core.display.Javascript object>"
      ]
     },
     "metadata": {},
     "output_type": "display_data"
    },
    {
     "data": {
      "application/javascript": [
       "\n",
       "        if (window._pyforest_update_imports_cell) { window._pyforest_update_imports_cell('import re\\nfrom sklearn.manifold import TSNE\\nimport matplotlib.pyplot as plt'); }\n",
       "    "
      ],
      "text/plain": [
       "<IPython.core.display.Javascript object>"
      ]
     },
     "metadata": {},
     "output_type": "display_data"
    },
    {
     "data": {
      "application/javascript": [
       "\n",
       "        if (window._pyforest_update_imports_cell) { window._pyforest_update_imports_cell('import re\\nfrom sklearn.manifold import TSNE\\nimport matplotlib.pyplot as plt'); }\n",
       "    "
      ],
      "text/plain": [
       "<IPython.core.display.Javascript object>"
      ]
     },
     "metadata": {},
     "output_type": "display_data"
    },
    {
     "data": {
      "application/javascript": [
       "\n",
       "        if (window._pyforest_update_imports_cell) { window._pyforest_update_imports_cell('import re\\nfrom sklearn.manifold import TSNE\\nimport matplotlib.pyplot as plt'); }\n",
       "    "
      ],
      "text/plain": [
       "<IPython.core.display.Javascript object>"
      ]
     },
     "metadata": {},
     "output_type": "display_data"
    },
    {
     "data": {
      "application/javascript": [
       "\n",
       "        if (window._pyforest_update_imports_cell) { window._pyforest_update_imports_cell('import re\\nfrom sklearn.manifold import TSNE\\nimport matplotlib.pyplot as plt'); }\n",
       "    "
      ],
      "text/plain": [
       "<IPython.core.display.Javascript object>"
      ]
     },
     "metadata": {},
     "output_type": "display_data"
    },
    {
     "data": {
      "image/png": "[encoded data removed]",
      "text/plain": [
       "<Figure size 648x648 with 1 Axes>"
      ]
     },
     "metadata": {
      "needs_background": "light"
     },
     "output_type": "display_data"
    }
   ],
   "source": [
    "tsnescatterplot(w2v_model, 'earthquake', ['deeds', 'reason', 'allah', 'forgive'])"
   ]
  },
  {
   "cell_type": "code",
   "execution_count": 69,
   "metadata": {},
   "outputs": [
    {
     "data": {
      "application/javascript": [
       "\n",
       "        if (window._pyforest_update_imports_cell) { window._pyforest_update_imports_cell('import re\\nfrom sklearn.manifold import TSNE\\nimport matplotlib.pyplot as plt'); }\n",
       "    "
      ],
      "text/plain": [
       "<IPython.core.display.Javascript object>"
      ]
     },
     "metadata": {},
     "output_type": "display_data"
    },
    {
     "data": {
      "application/javascript": [
       "\n",
       "        if (window._pyforest_update_imports_cell) { window._pyforest_update_imports_cell('import re\\nfrom sklearn.manifold import TSNE\\nimport matplotlib.pyplot as plt'); }\n",
       "    "
      ],
      "text/plain": [
       "<IPython.core.display.Javascript object>"
      ]
     },
     "metadata": {},
     "output_type": "display_data"
    },
    {
     "data": {
      "application/javascript": [
       "\n",
       "        if (window._pyforest_update_imports_cell) { window._pyforest_update_imports_cell('import re\\nfrom sklearn.manifold import TSNE\\nimport matplotlib.pyplot as plt'); }\n",
       "    "
      ],
      "text/plain": [
       "<IPython.core.display.Javascript object>"
      ]
     },
     "metadata": {},
     "output_type": "display_data"
    },
    {
     "data": {
      "application/javascript": [
       "\n",
       "        if (window._pyforest_update_imports_cell) { window._pyforest_update_imports_cell('import re\\nfrom sklearn.manifold import TSNE\\nimport matplotlib.pyplot as plt'); }\n",
       "    "
      ],
      "text/plain": [
       "<IPython.core.display.Javascript object>"
      ]
     },
     "metadata": {},
     "output_type": "display_data"
    },
    {
     "data": {
      "application/javascript": [
       "\n",
       "        if (window._pyforest_update_imports_cell) { window._pyforest_update_imports_cell('import re\\nfrom sklearn.manifold import TSNE\\nimport matplotlib.pyplot as plt'); }\n",
       "    "
      ],
      "text/plain": [
       "<IPython.core.display.Javascript object>"
      ]
     },
     "metadata": {},
     "output_type": "display_data"
    },
    {
     "data": {
      "image/png": "[encoded data removed]",
      "text/plain": [
       "<Figure size 648x648 with 1 Axes>"
      ]
     },
     "metadata": {
      "needs_background": "light"
     },
     "output_type": "display_data"
    }
   ],
   "source": [
    "tsnescatterplot(w2v_model, 'earthquake', [i[0] for i in w2v_model.wv.most_similar(negative=[\"earthquake\"])])"
   ]
  },
  {
   "cell_type": "code",
   "execution_count": null,
   "metadata": {},
   "outputs": [],
   "source": []
  }
 ],
 "metadata": {
  "kernelspec": {
   "display_name": "Python 3",
   "language": "python",
   "name": "python3"
  },
  "language_info": {
   "codemirror_mode": {
    "name": "ipython",
    "version": 3
   },
   "file_extension": ".py",
   "mimetype": "text/x-python",
   "name": "python",
   "nbconvert_exporter": "python",
   "pygments_lexer": "ipython3",
   "version": "3.8.5"
  }
 },
 "nbformat": 4,
 "nbformat_minor": 4
}
